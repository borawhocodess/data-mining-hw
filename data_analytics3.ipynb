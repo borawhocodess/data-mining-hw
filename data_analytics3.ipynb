{
 "cells": [
  {
   "cell_type": "markdown",
   "id": "7512c348",
   "metadata": {
    "id": "-yH-c8gS81B1",
    "jp-MarkdownHeadingCollapsed": true
   },
   "source": [
    "# BTS Mental Art\n",
    "## Most cells from ITU DATA MINING"
   ]
  },
  {
   "cell_type": "code",
   "execution_count": 1,
   "id": "07c24c66",
   "metadata": {
    "colab": {
     "base_uri": "https://localhost:8080/",
     "height": 35
    },
    "id": "5y4wZ80dE5Yi",
    "outputId": "e911c9b8-60e8-40e2-f801-e2f92b7f52d4"
   },
   "outputs": [],
   "source": [
    "import pandas as pd\n",
    "import numpy as np\n",
    "import re # to remove the unwanted characters from columns\n",
    "# Visualization\n",
    "import seaborn as sns\n",
    "import matplotlib.pyplot as plt\n",
    "# Another visualization library example(interactive): Plotly"
   ]
  },
  {
   "cell_type": "code",
   "execution_count": 16,
   "id": "812a5505",
   "metadata": {},
   "outputs": [],
   "source": [
    "review = {\n",
    "    \"user_id\": [\"U1\", \"U2\", \"U3\", \"U4\"],\n",
    "    \"item_id\": [\"I5\", \"I2\", \"I1\", \"I1\"],\n",
    "    \"rating\": [5, 1, 4, 5],\n",
    "    \"review_text\": [\"The best product ever\", \"Too expensive\", \"Like it\", \"Yey\"],\n",
    "    \"email\": [\"U1@gmail.com\", \"U2@gmail.com\", \"U3@gmail.com\", \"U4@gmail.com\"]\n",
    "}\n",
    "df_review = pd.DataFrame(review)"
   ]
  },
  {
   "cell_type": "code",
   "execution_count": 17,
   "id": "413a62b7",
   "metadata": {},
   "outputs": [
    {
     "data": {
      "text/html": [
       "<div>\n",
       "<style scoped>\n",
       "    .dataframe tbody tr th:only-of-type {\n",
       "        vertical-align: middle;\n",
       "    }\n",
       "\n",
       "    .dataframe tbody tr th {\n",
       "        vertical-align: top;\n",
       "    }\n",
       "\n",
       "    .dataframe thead th {\n",
       "        text-align: right;\n",
       "    }\n",
       "</style>\n",
       "<table border=\"1\" class=\"dataframe\">\n",
       "  <thead>\n",
       "    <tr style=\"text-align: right;\">\n",
       "      <th></th>\n",
       "      <th>user_id</th>\n",
       "      <th>item_id</th>\n",
       "      <th>rating</th>\n",
       "      <th>review_text</th>\n",
       "      <th>email</th>\n",
       "    </tr>\n",
       "  </thead>\n",
       "  <tbody>\n",
       "    <tr>\n",
       "      <th>0</th>\n",
       "      <td>U1</td>\n",
       "      <td>I5</td>\n",
       "      <td>5</td>\n",
       "      <td>The best product ever</td>\n",
       "      <td>U1@gmail.com</td>\n",
       "    </tr>\n",
       "    <tr>\n",
       "      <th>1</th>\n",
       "      <td>U2</td>\n",
       "      <td>I2</td>\n",
       "      <td>1</td>\n",
       "      <td>Too expensive</td>\n",
       "      <td>U2@gmail.com</td>\n",
       "    </tr>\n",
       "    <tr>\n",
       "      <th>2</th>\n",
       "      <td>U3</td>\n",
       "      <td>I1</td>\n",
       "      <td>4</td>\n",
       "      <td>Like it</td>\n",
       "      <td>U3@gmail.com</td>\n",
       "    </tr>\n",
       "    <tr>\n",
       "      <th>3</th>\n",
       "      <td>U4</td>\n",
       "      <td>I1</td>\n",
       "      <td>5</td>\n",
       "      <td>Yey</td>\n",
       "      <td>U4@gmail.com</td>\n",
       "    </tr>\n",
       "  </tbody>\n",
       "</table>\n",
       "</div>"
      ],
      "text/plain": [
       "  user_id item_id  rating            review_text         email\n",
       "0      U1      I5       5  The best product ever  U1@gmail.com\n",
       "1      U2      I2       1          Too expensive  U2@gmail.com\n",
       "2      U3      I1       4                Like it  U3@gmail.com\n",
       "3      U4      I1       5                    Yey  U4@gmail.com"
      ]
     },
     "execution_count": 17,
     "metadata": {},
     "output_type": "execute_result"
    }
   ],
   "source": [
    "df_review"
   ]
  },
  {
   "cell_type": "code",
   "execution_count": 4,
   "id": "98b2bd8d",
   "metadata": {},
   "outputs": [
    {
     "name": "stderr",
     "output_type": "stream",
     "text": [
      "/Users/resultugay/Desktop/iaml/week2/venv/lib/python3.6/site-packages/IPython/core/interactiveshell.py:3072: DtypeWarning: Columns (26) have mixed types.Specify dtype option on import or set low_memory=False.\n",
      "  interactivity=interactivity, compiler=compiler, result=result)\n"
     ]
    }
   ],
   "source": [
    "df = pd.read_csv(\"./credit_score.csv\")"
   ]
  },
  {
   "cell_type": "code",
   "execution_count": 5,
   "id": "f69699af",
   "metadata": {},
   "outputs": [
    {
     "data": {
      "text/html": [
       "<div>\n",
       "<style scoped>\n",
       "    .dataframe tbody tr th:only-of-type {\n",
       "        vertical-align: middle;\n",
       "    }\n",
       "\n",
       "    .dataframe tbody tr th {\n",
       "        vertical-align: top;\n",
       "    }\n",
       "\n",
       "    .dataframe thead th {\n",
       "        text-align: right;\n",
       "    }\n",
       "</style>\n",
       "<table border=\"1\" class=\"dataframe\">\n",
       "  <thead>\n",
       "    <tr style=\"text-align: right;\">\n",
       "      <th></th>\n",
       "      <th>ID</th>\n",
       "      <th>Customer_ID</th>\n",
       "      <th>Month</th>\n",
       "      <th>Name</th>\n",
       "      <th>Age</th>\n",
       "      <th>SSN</th>\n",
       "      <th>Occupation</th>\n",
       "      <th>Annual_Income</th>\n",
       "      <th>Monthly_Inhand_Salary</th>\n",
       "      <th>Num_Bank_Accounts</th>\n",
       "      <th>...</th>\n",
       "      <th>Credit_Mix</th>\n",
       "      <th>Outstanding_Debt</th>\n",
       "      <th>Credit_Utilization_Ratio</th>\n",
       "      <th>Credit_History_Age</th>\n",
       "      <th>Payment_of_Min_Amount</th>\n",
       "      <th>Total_EMI_per_month</th>\n",
       "      <th>Amount_invested_monthly</th>\n",
       "      <th>Payment_Behaviour</th>\n",
       "      <th>Monthly_Balance</th>\n",
       "      <th>Credit_Score</th>\n",
       "    </tr>\n",
       "  </thead>\n",
       "  <tbody>\n",
       "    <tr>\n",
       "      <th>0</th>\n",
       "      <td>0x1602</td>\n",
       "      <td>CUS_0xd40</td>\n",
       "      <td>January</td>\n",
       "      <td>Aaron Maashoh</td>\n",
       "      <td>23</td>\n",
       "      <td>821-00-0265</td>\n",
       "      <td>Scientist</td>\n",
       "      <td>19114.12</td>\n",
       "      <td>1824.843333</td>\n",
       "      <td>3</td>\n",
       "      <td>...</td>\n",
       "      <td>_</td>\n",
       "      <td>809.98</td>\n",
       "      <td>26.822620</td>\n",
       "      <td>22 Years and 1 Months</td>\n",
       "      <td>No</td>\n",
       "      <td>49.574949</td>\n",
       "      <td>80.41529543900253</td>\n",
       "      <td>High_spent_Small_value_payments</td>\n",
       "      <td>312.49408867943663</td>\n",
       "      <td>Good</td>\n",
       "    </tr>\n",
       "    <tr>\n",
       "      <th>1</th>\n",
       "      <td>0x1603</td>\n",
       "      <td>CUS_0xd40</td>\n",
       "      <td>February</td>\n",
       "      <td>Aaron Maashoh</td>\n",
       "      <td>23</td>\n",
       "      <td>821-00-0265</td>\n",
       "      <td>Scientist</td>\n",
       "      <td>19114.12</td>\n",
       "      <td>NaN</td>\n",
       "      <td>3</td>\n",
       "      <td>...</td>\n",
       "      <td>Good</td>\n",
       "      <td>809.98</td>\n",
       "      <td>31.944960</td>\n",
       "      <td>NaN</td>\n",
       "      <td>No</td>\n",
       "      <td>49.574949</td>\n",
       "      <td>118.28022162236736</td>\n",
       "      <td>Low_spent_Large_value_payments</td>\n",
       "      <td>284.62916249607184</td>\n",
       "      <td>Good</td>\n",
       "    </tr>\n",
       "    <tr>\n",
       "      <th>2</th>\n",
       "      <td>0x1604</td>\n",
       "      <td>CUS_0xd40</td>\n",
       "      <td>March</td>\n",
       "      <td>Aaron Maashoh</td>\n",
       "      <td>-500</td>\n",
       "      <td>821-00-0265</td>\n",
       "      <td>Scientist</td>\n",
       "      <td>19114.12</td>\n",
       "      <td>NaN</td>\n",
       "      <td>3</td>\n",
       "      <td>...</td>\n",
       "      <td>Good</td>\n",
       "      <td>809.98</td>\n",
       "      <td>28.609352</td>\n",
       "      <td>22 Years and 3 Months</td>\n",
       "      <td>No</td>\n",
       "      <td>49.574949</td>\n",
       "      <td>81.699521264648</td>\n",
       "      <td>Low_spent_Medium_value_payments</td>\n",
       "      <td>331.2098628537912</td>\n",
       "      <td>Good</td>\n",
       "    </tr>\n",
       "    <tr>\n",
       "      <th>3</th>\n",
       "      <td>0x1605</td>\n",
       "      <td>CUS_0xd40</td>\n",
       "      <td>April</td>\n",
       "      <td>Aaron Maashoh</td>\n",
       "      <td>23</td>\n",
       "      <td>821-00-0265</td>\n",
       "      <td>Scientist</td>\n",
       "      <td>19114.12</td>\n",
       "      <td>NaN</td>\n",
       "      <td>3</td>\n",
       "      <td>...</td>\n",
       "      <td>Good</td>\n",
       "      <td>809.98</td>\n",
       "      <td>31.377862</td>\n",
       "      <td>22 Years and 4 Months</td>\n",
       "      <td>No</td>\n",
       "      <td>49.574949</td>\n",
       "      <td>199.4580743910713</td>\n",
       "      <td>Low_spent_Small_value_payments</td>\n",
       "      <td>223.45130972736786</td>\n",
       "      <td>Good</td>\n",
       "    </tr>\n",
       "    <tr>\n",
       "      <th>4</th>\n",
       "      <td>0x1606</td>\n",
       "      <td>CUS_0xd40</td>\n",
       "      <td>May</td>\n",
       "      <td>Aaron Maashoh</td>\n",
       "      <td>23</td>\n",
       "      <td>821-00-0265</td>\n",
       "      <td>Scientist</td>\n",
       "      <td>19114.12</td>\n",
       "      <td>1824.843333</td>\n",
       "      <td>3</td>\n",
       "      <td>...</td>\n",
       "      <td>Good</td>\n",
       "      <td>809.98</td>\n",
       "      <td>24.797347</td>\n",
       "      <td>22 Years and 5 Months</td>\n",
       "      <td>No</td>\n",
       "      <td>49.574949</td>\n",
       "      <td>41.420153086217326</td>\n",
       "      <td>High_spent_Medium_value_payments</td>\n",
       "      <td>341.48923103222177</td>\n",
       "      <td>Good</td>\n",
       "    </tr>\n",
       "  </tbody>\n",
       "</table>\n",
       "<p>5 rows × 28 columns</p>\n",
       "</div>"
      ],
      "text/plain": [
       "       ID Customer_ID     Month           Name   Age          SSN Occupation  \\\n",
       "0  0x1602   CUS_0xd40   January  Aaron Maashoh    23  821-00-0265  Scientist   \n",
       "1  0x1603   CUS_0xd40  February  Aaron Maashoh    23  821-00-0265  Scientist   \n",
       "2  0x1604   CUS_0xd40     March  Aaron Maashoh  -500  821-00-0265  Scientist   \n",
       "3  0x1605   CUS_0xd40     April  Aaron Maashoh    23  821-00-0265  Scientist   \n",
       "4  0x1606   CUS_0xd40       May  Aaron Maashoh    23  821-00-0265  Scientist   \n",
       "\n",
       "  Annual_Income  Monthly_Inhand_Salary  Num_Bank_Accounts  ...  Credit_Mix  \\\n",
       "0      19114.12            1824.843333                  3  ...           _   \n",
       "1      19114.12                    NaN                  3  ...        Good   \n",
       "2      19114.12                    NaN                  3  ...        Good   \n",
       "3      19114.12                    NaN                  3  ...        Good   \n",
       "4      19114.12            1824.843333                  3  ...        Good   \n",
       "\n",
       "   Outstanding_Debt Credit_Utilization_Ratio     Credit_History_Age  \\\n",
       "0            809.98                26.822620  22 Years and 1 Months   \n",
       "1            809.98                31.944960                    NaN   \n",
       "2            809.98                28.609352  22 Years and 3 Months   \n",
       "3            809.98                31.377862  22 Years and 4 Months   \n",
       "4            809.98                24.797347  22 Years and 5 Months   \n",
       "\n",
       "   Payment_of_Min_Amount Total_EMI_per_month Amount_invested_monthly  \\\n",
       "0                     No           49.574949       80.41529543900253   \n",
       "1                     No           49.574949      118.28022162236736   \n",
       "2                     No           49.574949         81.699521264648   \n",
       "3                     No           49.574949       199.4580743910713   \n",
       "4                     No           49.574949      41.420153086217326   \n",
       "\n",
       "                  Payment_Behaviour     Monthly_Balance Credit_Score  \n",
       "0   High_spent_Small_value_payments  312.49408867943663         Good  \n",
       "1    Low_spent_Large_value_payments  284.62916249607184         Good  \n",
       "2   Low_spent_Medium_value_payments   331.2098628537912         Good  \n",
       "3    Low_spent_Small_value_payments  223.45130972736786         Good  \n",
       "4  High_spent_Medium_value_payments  341.48923103222177         Good  \n",
       "\n",
       "[5 rows x 28 columns]"
      ]
     },
     "execution_count": 5,
     "metadata": {},
     "output_type": "execute_result"
    }
   ],
   "source": [
    "df.head()"
   ]
  },
  {
   "cell_type": "markdown",
   "id": "168a27d5",
   "metadata": {},
   "source": [
    "## Updating Rows and Columns: Modifying Data within DataFrames\n",
    "\n",
    "we will use the filtering techniques we learned "
   ]
  },
  {
   "cell_type": "markdown",
   "id": "09b1dbcc",
   "metadata": {},
   "source": [
    "### 1. Updating Columns"
   ]
  },
  {
   "cell_type": "code",
   "execution_count": 10,
   "id": "c22e40fb",
   "metadata": {},
   "outputs": [
    {
     "data": {
      "text/html": [
       "<div>\n",
       "<style scoped>\n",
       "    .dataframe tbody tr th:only-of-type {\n",
       "        vertical-align: middle;\n",
       "    }\n",
       "\n",
       "    .dataframe tbody tr th {\n",
       "        vertical-align: top;\n",
       "    }\n",
       "\n",
       "    .dataframe thead th {\n",
       "        text-align: right;\n",
       "    }\n",
       "</style>\n",
       "<table border=\"1\" class=\"dataframe\">\n",
       "  <thead>\n",
       "    <tr style=\"text-align: right;\">\n",
       "      <th></th>\n",
       "      <th>USER</th>\n",
       "      <th>ITEM</th>\n",
       "      <th>SCORE</th>\n",
       "      <th>TEXT</th>\n",
       "      <th>MAIL</th>\n",
       "    </tr>\n",
       "  </thead>\n",
       "  <tbody>\n",
       "    <tr>\n",
       "      <th>0</th>\n",
       "      <td>U1</td>\n",
       "      <td>I5</td>\n",
       "      <td>5</td>\n",
       "      <td>The best product ever</td>\n",
       "      <td>U1@gmail.com</td>\n",
       "    </tr>\n",
       "    <tr>\n",
       "      <th>1</th>\n",
       "      <td>U2</td>\n",
       "      <td>I2</td>\n",
       "      <td>1</td>\n",
       "      <td>Too expensive</td>\n",
       "      <td>U2@gmail.com</td>\n",
       "    </tr>\n",
       "    <tr>\n",
       "      <th>2</th>\n",
       "      <td>U3</td>\n",
       "      <td>I1</td>\n",
       "      <td>4</td>\n",
       "      <td>Like it</td>\n",
       "      <td>U3@gmail.com</td>\n",
       "    </tr>\n",
       "    <tr>\n",
       "      <th>3</th>\n",
       "      <td>U4</td>\n",
       "      <td>I1</td>\n",
       "      <td>5</td>\n",
       "      <td>Yey</td>\n",
       "      <td>U4@gmail.com</td>\n",
       "    </tr>\n",
       "  </tbody>\n",
       "</table>\n",
       "</div>"
      ],
      "text/plain": [
       "  USER ITEM  SCORE                   TEXT          MAIL\n",
       "0   U1   I5      5  The best product ever  U1@gmail.com\n",
       "1   U2   I2      1          Too expensive  U2@gmail.com\n",
       "2   U3   I1      4                Like it  U3@gmail.com\n",
       "3   U4   I1      5                    Yey  U4@gmail.com"
      ]
     },
     "execution_count": 10,
     "metadata": {},
     "output_type": "execute_result"
    }
   ],
   "source": [
    "df_review"
   ]
  },
  {
   "cell_type": "code",
   "execution_count": 7,
   "id": "fda2f6ce",
   "metadata": {},
   "outputs": [
    {
     "name": "stdout",
     "output_type": "stream",
     "text": [
      "Index(['user_id', 'item_id', 'rating', 'review_text', 'email'], dtype='object')\n",
      "Index(['user', 'item', 'score', 'text', 'mail'], dtype='object')\n"
     ]
    }
   ],
   "source": [
    "print(df_review.columns)\n",
    "df_review.columns = [\"user\", \"item\", \"score\", \"text\", \"mail\"]\n",
    "print(df_review.columns)"
   ]
  },
  {
   "cell_type": "code",
   "execution_count": null,
   "id": "b359cb9c",
   "metadata": {},
   "outputs": [],
   "source": []
  },
  {
   "cell_type": "code",
   "execution_count": 9,
   "id": "12a23758",
   "metadata": {},
   "outputs": [
    {
     "name": "stdout",
     "output_type": "stream",
     "text": [
      "Index(['USER', 'ITEM', 'SCORE', 'TEXT', 'MAIL'], dtype='object')\n"
     ]
    }
   ],
   "source": [
    "df_review.columns = [x.upper() for x in df_review.columns] #make uppercase all column names\n",
    "print(df_review.columns)"
   ]
  },
  {
   "cell_type": "code",
   "execution_count": 7,
   "id": "bc591a17",
   "metadata": {},
   "outputs": [
    {
     "name": "stdout",
     "output_type": "stream",
     "text": [
      "Index(['user', 'item', 'score', 'text', 'mail'], dtype='object')\n"
     ]
    }
   ],
   "source": [
    "df_review.columns = [x.lower() for x in df_review.columns] #make uppercase all column names\n",
    "print(df_review.columns)"
   ]
  },
  {
   "cell_type": "code",
   "execution_count": 21,
   "id": "0c7ce271",
   "metadata": {},
   "outputs": [
    {
     "data": {
      "text/html": [
       "<div>\n",
       "<style scoped>\n",
       "    .dataframe tbody tr th:only-of-type {\n",
       "        vertical-align: middle;\n",
       "    }\n",
       "\n",
       "    .dataframe tbody tr th {\n",
       "        vertical-align: top;\n",
       "    }\n",
       "\n",
       "    .dataframe thead th {\n",
       "        text-align: right;\n",
       "    }\n",
       "</style>\n",
       "<table border=\"1\" class=\"dataframe\">\n",
       "  <thead>\n",
       "    <tr style=\"text-align: right;\">\n",
       "      <th></th>\n",
       "      <th>user_id</th>\n",
       "      <th>item_id</th>\n",
       "      <th>rating</th>\n",
       "      <th>review_text</th>\n",
       "      <th>user_mail</th>\n",
       "    </tr>\n",
       "  </thead>\n",
       "  <tbody>\n",
       "    <tr>\n",
       "      <th>0</th>\n",
       "      <td>U1</td>\n",
       "      <td>I5</td>\n",
       "      <td>5</td>\n",
       "      <td>The best product ever</td>\n",
       "      <td>U1@gmail.com</td>\n",
       "    </tr>\n",
       "    <tr>\n",
       "      <th>1</th>\n",
       "      <td>U2</td>\n",
       "      <td>I2</td>\n",
       "      <td>1</td>\n",
       "      <td>Too expensive</td>\n",
       "      <td>U2@gmail.com</td>\n",
       "    </tr>\n",
       "    <tr>\n",
       "      <th>2</th>\n",
       "      <td>U3</td>\n",
       "      <td>I1</td>\n",
       "      <td>4</td>\n",
       "      <td>Like it</td>\n",
       "      <td>U3@gmail.com</td>\n",
       "    </tr>\n",
       "    <tr>\n",
       "      <th>3</th>\n",
       "      <td>U4</td>\n",
       "      <td>I1</td>\n",
       "      <td>5</td>\n",
       "      <td>Yey</td>\n",
       "      <td>U4@gmail.com</td>\n",
       "    </tr>\n",
       "  </tbody>\n",
       "</table>\n",
       "</div>"
      ],
      "text/plain": [
       "  user_id item_id  rating            review_text     user_mail\n",
       "0      U1      I5       5  The best product ever  U1@gmail.com\n",
       "1      U2      I2       1          Too expensive  U2@gmail.com\n",
       "2      U3      I1       4                Like it  U3@gmail.com\n",
       "3      U4      I1       5                    Yey  U4@gmail.com"
      ]
     },
     "execution_count": 21,
     "metadata": {},
     "output_type": "execute_result"
    }
   ],
   "source": [
    "df_review"
   ]
  },
  {
   "cell_type": "code",
   "execution_count": 20,
   "id": "4df9d803",
   "metadata": {},
   "outputs": [
    {
     "name": "stdout",
     "output_type": "stream",
     "text": [
      "Index(['user_id', 'item_id', 'rating', 'review_text', 'user_mail'], dtype='object')\n"
     ]
    }
   ],
   "source": [
    "#change only specific columns\n",
    "df_review.rename(columns = {\"email\": \"user_mail\", \"text\": \"review\"}, inplace=True)\n",
    "print(df_review.columns)"
   ]
  },
  {
   "cell_type": "markdown",
   "id": "0f0b42a3",
   "metadata": {
    "jp-MarkdownHeadingCollapsed": true
   },
   "source": [
    "### 2. Updating Data"
   ]
  },
  {
   "cell_type": "code",
   "execution_count": 22,
   "id": "a339f73a",
   "metadata": {},
   "outputs": [
    {
     "data": {
      "text/plain": [
       "user_id                   U2\n",
       "item_id                   I2\n",
       "rating                     1\n",
       "review_text    Too expensive\n",
       "user_mail       U2@gmail.com\n",
       "Name: 1, dtype: object"
      ]
     },
     "execution_count": 22,
     "metadata": {},
     "output_type": "execute_result"
    }
   ],
   "source": [
    "df_review.iloc[1]"
   ]
  },
  {
   "cell_type": "code",
   "execution_count": 27,
   "id": "96d37d38",
   "metadata": {},
   "outputs": [
    {
     "data": {
      "text/plain": [
       "user_id                  user2new\n",
       "item_id                        I2\n",
       "rating                          1\n",
       "review_text         Too expensive\n",
       "user_mail      user2new@gmail.com\n",
       "Name: 1, dtype: object"
      ]
     },
     "execution_count": 27,
     "metadata": {},
     "output_type": "execute_result"
    }
   ],
   "source": [
    "df_review.iloc[1] = [\"user2new\", \"I2\", 1, \"Too expensive\", \"user2new@gmail.com\"]\n",
    "df_review.iloc[1]"
   ]
  },
  {
   "cell_type": "code",
   "execution_count": 30,
   "id": "84aedc81",
   "metadata": {},
   "outputs": [
    {
     "data": {
      "text/html": [
       "<div>\n",
       "<style scoped>\n",
       "    .dataframe tbody tr th:only-of-type {\n",
       "        vertical-align: middle;\n",
       "    }\n",
       "\n",
       "    .dataframe tbody tr th {\n",
       "        vertical-align: top;\n",
       "    }\n",
       "\n",
       "    .dataframe thead th {\n",
       "        text-align: right;\n",
       "    }\n",
       "</style>\n",
       "<table border=\"1\" class=\"dataframe\">\n",
       "  <thead>\n",
       "    <tr style=\"text-align: right;\">\n",
       "      <th></th>\n",
       "      <th>user_id</th>\n",
       "      <th>item_id</th>\n",
       "      <th>rating</th>\n",
       "      <th>review_text</th>\n",
       "      <th>user_mail</th>\n",
       "      <th>user</th>\n",
       "    </tr>\n",
       "  </thead>\n",
       "  <tbody>\n",
       "    <tr>\n",
       "      <th>0</th>\n",
       "      <td>U1</td>\n",
       "      <td>I5</td>\n",
       "      <td>5</td>\n",
       "      <td>The best product ever</td>\n",
       "      <td>U1@gmail.com</td>\n",
       "      <td>NaN</td>\n",
       "    </tr>\n",
       "    <tr>\n",
       "      <th>1</th>\n",
       "      <td>user2new</td>\n",
       "      <td>I2</td>\n",
       "      <td>1</td>\n",
       "      <td>Too expensive</td>\n",
       "      <td>U2@gmail.com</td>\n",
       "      <td>U2</td>\n",
       "    </tr>\n",
       "    <tr>\n",
       "      <th>2</th>\n",
       "      <td>U3</td>\n",
       "      <td>I1</td>\n",
       "      <td>4</td>\n",
       "      <td>Like it</td>\n",
       "      <td>U3@gmail.com</td>\n",
       "      <td>NaN</td>\n",
       "    </tr>\n",
       "    <tr>\n",
       "      <th>3</th>\n",
       "      <td>U4</td>\n",
       "      <td>I1</td>\n",
       "      <td>5</td>\n",
       "      <td>Yey</td>\n",
       "      <td>U4@gmail.com</td>\n",
       "      <td>NaN</td>\n",
       "    </tr>\n",
       "  </tbody>\n",
       "</table>\n",
       "</div>"
      ],
      "text/plain": [
       "    user_id item_id  rating            review_text     user_mail user\n",
       "0        U1      I5       5  The best product ever  U1@gmail.com  NaN\n",
       "1  user2new      I2       1          Too expensive  U2@gmail.com   U2\n",
       "2        U3      I1       4                Like it  U3@gmail.com  NaN\n",
       "3        U4      I1       5                    Yey  U4@gmail.com  NaN"
      ]
     },
     "execution_count": 30,
     "metadata": {},
     "output_type": "execute_result"
    }
   ],
   "source": [
    "df_review"
   ]
  },
  {
   "cell_type": "code",
   "execution_count": 29,
   "id": "1a84e613",
   "metadata": {},
   "outputs": [
    {
     "data": {
      "text/plain": [
       "user_id             user2new\n",
       "item_id                   I2\n",
       "rating                     1\n",
       "review_text    Too expensive\n",
       "user_mail       U2@gmail.com\n",
       "user                      U2\n",
       "Name: 1, dtype: object"
      ]
     },
     "execution_count": 29,
     "metadata": {},
     "output_type": "execute_result"
    }
   ],
   "source": [
    "df_review.loc[1, [\"user_mail\", \"user\"]] =   [\"U2@gmail.com\", \"U2\"]\n",
    "df_review.iloc[1]"
   ]
  },
  {
   "cell_type": "markdown",
   "id": "84674787",
   "metadata": {},
   "source": [
    "#### 2.1 Apply Method"
   ]
  },
  {
   "cell_type": "code",
   "execution_count": 32,
   "id": "2f184764",
   "metadata": {},
   "outputs": [
    {
     "data": {
      "text/html": [
       "<div>\n",
       "<style scoped>\n",
       "    .dataframe tbody tr th:only-of-type {\n",
       "        vertical-align: middle;\n",
       "    }\n",
       "\n",
       "    .dataframe tbody tr th {\n",
       "        vertical-align: top;\n",
       "    }\n",
       "\n",
       "    .dataframe thead th {\n",
       "        text-align: right;\n",
       "    }\n",
       "</style>\n",
       "<table border=\"1\" class=\"dataframe\">\n",
       "  <thead>\n",
       "    <tr style=\"text-align: right;\">\n",
       "      <th></th>\n",
       "      <th>user_id</th>\n",
       "      <th>item_id</th>\n",
       "      <th>rating</th>\n",
       "      <th>review_text</th>\n",
       "      <th>user_mail</th>\n",
       "      <th>user</th>\n",
       "    </tr>\n",
       "  </thead>\n",
       "  <tbody>\n",
       "    <tr>\n",
       "      <th>0</th>\n",
       "      <td>U1</td>\n",
       "      <td>I5</td>\n",
       "      <td>5</td>\n",
       "      <td>The best product ever</td>\n",
       "      <td>U1@gmail.com</td>\n",
       "      <td>NaN</td>\n",
       "    </tr>\n",
       "    <tr>\n",
       "      <th>1</th>\n",
       "      <td>user2new</td>\n",
       "      <td>I2</td>\n",
       "      <td>1</td>\n",
       "      <td>Too expensive</td>\n",
       "      <td>U2@gmail.com</td>\n",
       "      <td>U2</td>\n",
       "    </tr>\n",
       "    <tr>\n",
       "      <th>2</th>\n",
       "      <td>U3</td>\n",
       "      <td>I1</td>\n",
       "      <td>4</td>\n",
       "      <td>Like it</td>\n",
       "      <td>U3@gmail.com</td>\n",
       "      <td>NaN</td>\n",
       "    </tr>\n",
       "    <tr>\n",
       "      <th>3</th>\n",
       "      <td>U4</td>\n",
       "      <td>I1</td>\n",
       "      <td>5</td>\n",
       "      <td>Yey</td>\n",
       "      <td>U4@gmail.com</td>\n",
       "      <td>NaN</td>\n",
       "    </tr>\n",
       "  </tbody>\n",
       "</table>\n",
       "</div>"
      ],
      "text/plain": [
       "    user_id item_id  rating            review_text     user_mail user\n",
       "0        U1      I5       5  The best product ever  U1@gmail.com  NaN\n",
       "1  user2new      I2       1          Too expensive  U2@gmail.com   U2\n",
       "2        U3      I1       4                Like it  U3@gmail.com  NaN\n",
       "3        U4      I1       5                    Yey  U4@gmail.com  NaN"
      ]
     },
     "execution_count": 32,
     "metadata": {},
     "output_type": "execute_result"
    }
   ],
   "source": [
    "df_review"
   ]
  },
  {
   "cell_type": "code",
   "execution_count": 34,
   "id": "cb7bf334",
   "metadata": {},
   "outputs": [
    {
     "data": {
      "text/plain": [
       "0    21\n",
       "1    13\n",
       "2     7\n",
       "3     3\n",
       "Name: review_text, dtype: int64"
      ]
     },
     "execution_count": 34,
     "metadata": {},
     "output_type": "execute_result"
    }
   ],
   "source": [
    "# find length of review column\n",
    "df_review[\"review_text\"].apply(len)"
   ]
  },
  {
   "cell_type": "code",
   "execution_count": 35,
   "id": "0b45fbf4",
   "metadata": {},
   "outputs": [
    {
     "data": {
      "text/html": [
       "<div>\n",
       "<style scoped>\n",
       "    .dataframe tbody tr th:only-of-type {\n",
       "        vertical-align: middle;\n",
       "    }\n",
       "\n",
       "    .dataframe tbody tr th {\n",
       "        vertical-align: top;\n",
       "    }\n",
       "\n",
       "    .dataframe thead th {\n",
       "        text-align: right;\n",
       "    }\n",
       "</style>\n",
       "<table border=\"1\" class=\"dataframe\">\n",
       "  <thead>\n",
       "    <tr style=\"text-align: right;\">\n",
       "      <th></th>\n",
       "      <th>user_id</th>\n",
       "      <th>item_id</th>\n",
       "      <th>rating</th>\n",
       "      <th>review_text</th>\n",
       "      <th>user_mail</th>\n",
       "      <th>user</th>\n",
       "    </tr>\n",
       "  </thead>\n",
       "  <tbody>\n",
       "    <tr>\n",
       "      <th>0</th>\n",
       "      <td>U1</td>\n",
       "      <td>I5</td>\n",
       "      <td>5</td>\n",
       "      <td>The best product ever</td>\n",
       "      <td>U1@gmail.com</td>\n",
       "      <td>NaN</td>\n",
       "    </tr>\n",
       "    <tr>\n",
       "      <th>1</th>\n",
       "      <td>user2new</td>\n",
       "      <td>I2</td>\n",
       "      <td>1</td>\n",
       "      <td>Too expensive</td>\n",
       "      <td>U2@gmail.com</td>\n",
       "      <td>U2</td>\n",
       "    </tr>\n",
       "    <tr>\n",
       "      <th>2</th>\n",
       "      <td>U3</td>\n",
       "      <td>I1</td>\n",
       "      <td>4</td>\n",
       "      <td>Like it</td>\n",
       "      <td>U3@gmail.com</td>\n",
       "      <td>NaN</td>\n",
       "    </tr>\n",
       "    <tr>\n",
       "      <th>3</th>\n",
       "      <td>U4</td>\n",
       "      <td>I1</td>\n",
       "      <td>5</td>\n",
       "      <td>Yey</td>\n",
       "      <td>U4@gmail.com</td>\n",
       "      <td>NaN</td>\n",
       "    </tr>\n",
       "  </tbody>\n",
       "</table>\n",
       "</div>"
      ],
      "text/plain": [
       "    user_id item_id  rating            review_text     user_mail user\n",
       "0        U1      I5       5  The best product ever  U1@gmail.com  NaN\n",
       "1  user2new      I2       1          Too expensive  U2@gmail.com   U2\n",
       "2        U3      I1       4                Like it  U3@gmail.com  NaN\n",
       "3        U4      I1       5                    Yey  U4@gmail.com  NaN"
      ]
     },
     "execution_count": 35,
     "metadata": {},
     "output_type": "execute_result"
    }
   ],
   "source": [
    "df_review"
   ]
  },
  {
   "cell_type": "code",
   "execution_count": 36,
   "id": "7d993fc0",
   "metadata": {},
   "outputs": [
    {
     "data": {
      "text/plain": [
       "0    THE BEST PRODUCT EVER\n",
       "1            TOO EXPENSIVE\n",
       "2                  LIKE IT\n",
       "3                      YEY\n",
       "Name: review_text, dtype: object"
      ]
     },
     "execution_count": 36,
     "metadata": {},
     "output_type": "execute_result"
    }
   ],
   "source": [
    "# create a function and send it into apply function as argument\n",
    "# 1. way: create function\n",
    "def upper_case(val):\n",
    "    return val.upper()\n",
    "\n",
    "df_review[\"review_text\"].apply(upper_case)"
   ]
  },
  {
   "cell_type": "code",
   "execution_count": 38,
   "id": "8656587a",
   "metadata": {},
   "outputs": [
    {
     "data": {
      "text/html": [
       "<div>\n",
       "<style scoped>\n",
       "    .dataframe tbody tr th:only-of-type {\n",
       "        vertical-align: middle;\n",
       "    }\n",
       "\n",
       "    .dataframe tbody tr th {\n",
       "        vertical-align: top;\n",
       "    }\n",
       "\n",
       "    .dataframe thead th {\n",
       "        text-align: right;\n",
       "    }\n",
       "</style>\n",
       "<table border=\"1\" class=\"dataframe\">\n",
       "  <thead>\n",
       "    <tr style=\"text-align: right;\">\n",
       "      <th></th>\n",
       "      <th>user_id</th>\n",
       "      <th>item_id</th>\n",
       "      <th>rating</th>\n",
       "      <th>review_text</th>\n",
       "      <th>user_mail</th>\n",
       "      <th>user</th>\n",
       "    </tr>\n",
       "  </thead>\n",
       "  <tbody>\n",
       "    <tr>\n",
       "      <th>0</th>\n",
       "      <td>U1</td>\n",
       "      <td>I5</td>\n",
       "      <td>5</td>\n",
       "      <td>THE BEST PRODUCT EVER</td>\n",
       "      <td>U1@gmail.com</td>\n",
       "      <td>NaN</td>\n",
       "    </tr>\n",
       "    <tr>\n",
       "      <th>1</th>\n",
       "      <td>user2new</td>\n",
       "      <td>I2</td>\n",
       "      <td>1</td>\n",
       "      <td>TOO EXPENSIVE</td>\n",
       "      <td>U2@gmail.com</td>\n",
       "      <td>U2</td>\n",
       "    </tr>\n",
       "    <tr>\n",
       "      <th>2</th>\n",
       "      <td>U3</td>\n",
       "      <td>I1</td>\n",
       "      <td>4</td>\n",
       "      <td>LIKE IT</td>\n",
       "      <td>U3@gmail.com</td>\n",
       "      <td>NaN</td>\n",
       "    </tr>\n",
       "    <tr>\n",
       "      <th>3</th>\n",
       "      <td>U4</td>\n",
       "      <td>I1</td>\n",
       "      <td>5</td>\n",
       "      <td>YEY</td>\n",
       "      <td>U4@gmail.com</td>\n",
       "      <td>NaN</td>\n",
       "    </tr>\n",
       "  </tbody>\n",
       "</table>\n",
       "</div>"
      ],
      "text/plain": [
       "    user_id item_id  rating            review_text     user_mail user\n",
       "0        U1      I5       5  THE BEST PRODUCT EVER  U1@gmail.com  NaN\n",
       "1  user2new      I2       1          TOO EXPENSIVE  U2@gmail.com   U2\n",
       "2        U3      I1       4                LIKE IT  U3@gmail.com  NaN\n",
       "3        U4      I1       5                    YEY  U4@gmail.com  NaN"
      ]
     },
     "execution_count": 38,
     "metadata": {},
     "output_type": "execute_result"
    }
   ],
   "source": [
    "# to make changes permanent, assign the result to our review column\n",
    "df_review[\"review_text\"] = df_review[\"review_text\"].apply(upper_case)\n",
    "df_review"
   ]
  },
  {
   "cell_type": "code",
   "execution_count": 39,
   "id": "1d688470",
   "metadata": {},
   "outputs": [
    {
     "data": {
      "text/html": [
       "<div>\n",
       "<style scoped>\n",
       "    .dataframe tbody tr th:only-of-type {\n",
       "        vertical-align: middle;\n",
       "    }\n",
       "\n",
       "    .dataframe tbody tr th {\n",
       "        vertical-align: top;\n",
       "    }\n",
       "\n",
       "    .dataframe thead th {\n",
       "        text-align: right;\n",
       "    }\n",
       "</style>\n",
       "<table border=\"1\" class=\"dataframe\">\n",
       "  <thead>\n",
       "    <tr style=\"text-align: right;\">\n",
       "      <th></th>\n",
       "      <th>user_id</th>\n",
       "      <th>item_id</th>\n",
       "      <th>rating</th>\n",
       "      <th>review_text</th>\n",
       "      <th>user_mail</th>\n",
       "      <th>user</th>\n",
       "    </tr>\n",
       "  </thead>\n",
       "  <tbody>\n",
       "    <tr>\n",
       "      <th>0</th>\n",
       "      <td>U1</td>\n",
       "      <td>I5</td>\n",
       "      <td>5</td>\n",
       "      <td>the best product ever</td>\n",
       "      <td>U1@gmail.com</td>\n",
       "      <td>NaN</td>\n",
       "    </tr>\n",
       "    <tr>\n",
       "      <th>1</th>\n",
       "      <td>user2new</td>\n",
       "      <td>I2</td>\n",
       "      <td>1</td>\n",
       "      <td>too expensive</td>\n",
       "      <td>U2@gmail.com</td>\n",
       "      <td>U2</td>\n",
       "    </tr>\n",
       "    <tr>\n",
       "      <th>2</th>\n",
       "      <td>U3</td>\n",
       "      <td>I1</td>\n",
       "      <td>4</td>\n",
       "      <td>like it</td>\n",
       "      <td>U3@gmail.com</td>\n",
       "      <td>NaN</td>\n",
       "    </tr>\n",
       "    <tr>\n",
       "      <th>3</th>\n",
       "      <td>U4</td>\n",
       "      <td>I1</td>\n",
       "      <td>5</td>\n",
       "      <td>yey</td>\n",
       "      <td>U4@gmail.com</td>\n",
       "      <td>NaN</td>\n",
       "    </tr>\n",
       "  </tbody>\n",
       "</table>\n",
       "</div>"
      ],
      "text/plain": [
       "    user_id item_id  rating            review_text     user_mail user\n",
       "0        U1      I5       5  the best product ever  U1@gmail.com  NaN\n",
       "1  user2new      I2       1          too expensive  U2@gmail.com   U2\n",
       "2        U3      I1       4                like it  U3@gmail.com  NaN\n",
       "3        U4      I1       5                    yey  U4@gmail.com  NaN"
      ]
     },
     "execution_count": 39,
     "metadata": {},
     "output_type": "execute_result"
    }
   ],
   "source": [
    "# or if your function is not complicated, you can write your function into your apply function\n",
    "\n",
    "df_review[\"review_text\"] = df_review[\"review_text\"].apply(lambda x: x.lower())\n",
    "df_review"
   ]
  },
  {
   "cell_type": "code",
   "execution_count": 16,
   "id": "b71b5a1e",
   "metadata": {
    "scrolled": true
   },
   "outputs": [
    {
     "data": {
      "text/html": [
       "<div>\n",
       "<style scoped>\n",
       "    .dataframe tbody tr th:only-of-type {\n",
       "        vertical-align: middle;\n",
       "    }\n",
       "\n",
       "    .dataframe tbody tr th {\n",
       "        vertical-align: top;\n",
       "    }\n",
       "\n",
       "    .dataframe thead th {\n",
       "        text-align: right;\n",
       "    }\n",
       "</style>\n",
       "<table border=\"1\" class=\"dataframe\">\n",
       "  <thead>\n",
       "    <tr style=\"text-align: right;\">\n",
       "      <th></th>\n",
       "      <th>user</th>\n",
       "      <th>item</th>\n",
       "      <th>score</th>\n",
       "      <th>review</th>\n",
       "      <th>user_mail</th>\n",
       "      <th>score_plus_one</th>\n",
       "    </tr>\n",
       "  </thead>\n",
       "  <tbody>\n",
       "    <tr>\n",
       "      <th>0</th>\n",
       "      <td>U1</td>\n",
       "      <td>I5</td>\n",
       "      <td>5</td>\n",
       "      <td>the best product ever</td>\n",
       "      <td>U1@gmail.com</td>\n",
       "      <td>6</td>\n",
       "    </tr>\n",
       "    <tr>\n",
       "      <th>1</th>\n",
       "      <td>U2</td>\n",
       "      <td>I2</td>\n",
       "      <td>1</td>\n",
       "      <td>too expensive</td>\n",
       "      <td>U2@gmail.com</td>\n",
       "      <td>2</td>\n",
       "    </tr>\n",
       "    <tr>\n",
       "      <th>2</th>\n",
       "      <td>U3</td>\n",
       "      <td>I1</td>\n",
       "      <td>4</td>\n",
       "      <td>like it</td>\n",
       "      <td>U3@gmail.com</td>\n",
       "      <td>5</td>\n",
       "    </tr>\n",
       "    <tr>\n",
       "      <th>3</th>\n",
       "      <td>U4</td>\n",
       "      <td>I1</td>\n",
       "      <td>5</td>\n",
       "      <td>yey</td>\n",
       "      <td>U4@gmail.com</td>\n",
       "      <td>6</td>\n",
       "    </tr>\n",
       "  </tbody>\n",
       "</table>\n",
       "</div>"
      ],
      "text/plain": [
       "  user item  score                 review     user_mail  score_plus_one\n",
       "0   U1   I5      5  the best product ever  U1@gmail.com               6\n",
       "1   U2   I2      1          too expensive  U2@gmail.com               2\n",
       "2   U3   I1      4                like it  U3@gmail.com               5\n",
       "3   U4   I1      5                    yey  U4@gmail.com               6"
      ]
     },
     "execution_count": 16,
     "metadata": {},
     "output_type": "execute_result"
    }
   ],
   "source": [
    "# increase score by one and create a new column. \n",
    "# When youre dealing with specific columns and giving the name of column inside lambda function, you need to set axis as 1, it means you're working as column-wise.\n",
    "df_review[\"score_plus_one\"] = df_review.apply(lambda x: x[\"score\"] + 1, axis=1)\n",
    "# both rows return the same result. ıf you're giving the name of your column outside the apply method, yo don't have o set axis as 1\n",
    "#df_review[\"score\"].apply(lambda x: x + 1)\n",
    "df_review"
   ]
  },
  {
   "cell_type": "markdown",
   "id": "f0824b15",
   "metadata": {
    "jp-MarkdownHeadingCollapsed": true
   },
   "source": [
    "## Add & Remove Columns"
   ]
  },
  {
   "cell_type": "code",
   "execution_count": 17,
   "id": "a79c17fc",
   "metadata": {
    "scrolled": true
   },
   "outputs": [
    {
     "data": {
      "text/plain": [
       "0    5-the best product ever\n",
       "1            1-too expensive\n",
       "2                  4-like it\n",
       "3                      5-yey\n",
       "dtype: object"
      ]
     },
     "execution_count": 17,
     "metadata": {},
     "output_type": "execute_result"
    }
   ],
   "source": [
    "df_review[\"score\"].astype(str) + \"-\" + df_review[\"review\"]"
   ]
  },
  {
   "cell_type": "code",
   "execution_count": 18,
   "id": "30479fa0",
   "metadata": {},
   "outputs": [
    {
     "data": {
      "text/html": [
       "<div>\n",
       "<style scoped>\n",
       "    .dataframe tbody tr th:only-of-type {\n",
       "        vertical-align: middle;\n",
       "    }\n",
       "\n",
       "    .dataframe tbody tr th {\n",
       "        vertical-align: top;\n",
       "    }\n",
       "\n",
       "    .dataframe thead th {\n",
       "        text-align: right;\n",
       "    }\n",
       "</style>\n",
       "<table border=\"1\" class=\"dataframe\">\n",
       "  <thead>\n",
       "    <tr style=\"text-align: right;\">\n",
       "      <th></th>\n",
       "      <th>user</th>\n",
       "      <th>item</th>\n",
       "      <th>score</th>\n",
       "      <th>review</th>\n",
       "      <th>user_mail</th>\n",
       "      <th>score_plus_one</th>\n",
       "      <th>score_review</th>\n",
       "    </tr>\n",
       "  </thead>\n",
       "  <tbody>\n",
       "    <tr>\n",
       "      <th>0</th>\n",
       "      <td>U1</td>\n",
       "      <td>I5</td>\n",
       "      <td>5</td>\n",
       "      <td>the best product ever</td>\n",
       "      <td>U1@gmail.com</td>\n",
       "      <td>6</td>\n",
       "      <td>5_the best product ever</td>\n",
       "    </tr>\n",
       "    <tr>\n",
       "      <th>1</th>\n",
       "      <td>U2</td>\n",
       "      <td>I2</td>\n",
       "      <td>1</td>\n",
       "      <td>too expensive</td>\n",
       "      <td>U2@gmail.com</td>\n",
       "      <td>2</td>\n",
       "      <td>1_too expensive</td>\n",
       "    </tr>\n",
       "    <tr>\n",
       "      <th>2</th>\n",
       "      <td>U3</td>\n",
       "      <td>I1</td>\n",
       "      <td>4</td>\n",
       "      <td>like it</td>\n",
       "      <td>U3@gmail.com</td>\n",
       "      <td>5</td>\n",
       "      <td>4_like it</td>\n",
       "    </tr>\n",
       "    <tr>\n",
       "      <th>3</th>\n",
       "      <td>U4</td>\n",
       "      <td>I1</td>\n",
       "      <td>5</td>\n",
       "      <td>yey</td>\n",
       "      <td>U4@gmail.com</td>\n",
       "      <td>6</td>\n",
       "      <td>5_yey</td>\n",
       "    </tr>\n",
       "  </tbody>\n",
       "</table>\n",
       "</div>"
      ],
      "text/plain": [
       "  user item  score                 review     user_mail  score_plus_one  \\\n",
       "0   U1   I5      5  the best product ever  U1@gmail.com               6   \n",
       "1   U2   I2      1          too expensive  U2@gmail.com               2   \n",
       "2   U3   I1      4                like it  U3@gmail.com               5   \n",
       "3   U4   I1      5                    yey  U4@gmail.com               6   \n",
       "\n",
       "              score_review  \n",
       "0  5_the best product ever  \n",
       "1          1_too expensive  \n",
       "2                4_like it  \n",
       "3                    5_yey  "
      ]
     },
     "execution_count": 18,
     "metadata": {},
     "output_type": "execute_result"
    }
   ],
   "source": [
    "# create a ne column by using score and review columns\n",
    "df_review[\"score_review\"] = df_review[\"score\"].astype(str) + \"_\" + df_review[\"review\"]\n",
    "df_review"
   ]
  },
  {
   "cell_type": "code",
   "execution_count": 19,
   "id": "f907c24d",
   "metadata": {
    "scrolled": true
   },
   "outputs": [
    {
     "data": {
      "text/html": [
       "<div>\n",
       "<style scoped>\n",
       "    .dataframe tbody tr th:only-of-type {\n",
       "        vertical-align: middle;\n",
       "    }\n",
       "\n",
       "    .dataframe tbody tr th {\n",
       "        vertical-align: top;\n",
       "    }\n",
       "\n",
       "    .dataframe thead th {\n",
       "        text-align: right;\n",
       "    }\n",
       "</style>\n",
       "<table border=\"1\" class=\"dataframe\">\n",
       "  <thead>\n",
       "    <tr style=\"text-align: right;\">\n",
       "      <th></th>\n",
       "      <th>user</th>\n",
       "      <th>item</th>\n",
       "      <th>score</th>\n",
       "      <th>review</th>\n",
       "      <th>user_mail</th>\n",
       "      <th>score_review</th>\n",
       "    </tr>\n",
       "  </thead>\n",
       "  <tbody>\n",
       "    <tr>\n",
       "      <th>0</th>\n",
       "      <td>U1</td>\n",
       "      <td>I5</td>\n",
       "      <td>5</td>\n",
       "      <td>the best product ever</td>\n",
       "      <td>U1@gmail.com</td>\n",
       "      <td>5_the best product ever</td>\n",
       "    </tr>\n",
       "    <tr>\n",
       "      <th>1</th>\n",
       "      <td>U2</td>\n",
       "      <td>I2</td>\n",
       "      <td>1</td>\n",
       "      <td>too expensive</td>\n",
       "      <td>U2@gmail.com</td>\n",
       "      <td>1_too expensive</td>\n",
       "    </tr>\n",
       "    <tr>\n",
       "      <th>2</th>\n",
       "      <td>U3</td>\n",
       "      <td>I1</td>\n",
       "      <td>4</td>\n",
       "      <td>like it</td>\n",
       "      <td>U3@gmail.com</td>\n",
       "      <td>4_like it</td>\n",
       "    </tr>\n",
       "    <tr>\n",
       "      <th>3</th>\n",
       "      <td>U4</td>\n",
       "      <td>I1</td>\n",
       "      <td>5</td>\n",
       "      <td>yey</td>\n",
       "      <td>U4@gmail.com</td>\n",
       "      <td>5_yey</td>\n",
       "    </tr>\n",
       "  </tbody>\n",
       "</table>\n",
       "</div>"
      ],
      "text/plain": [
       "  user item  score                 review     user_mail  \\\n",
       "0   U1   I5      5  the best product ever  U1@gmail.com   \n",
       "1   U2   I2      1          too expensive  U2@gmail.com   \n",
       "2   U3   I1      4                like it  U3@gmail.com   \n",
       "3   U4   I1      5                    yey  U4@gmail.com   \n",
       "\n",
       "              score_review  \n",
       "0  5_the best product ever  \n",
       "1          1_too expensive  \n",
       "2                4_like it  \n",
       "3                    5_yey  "
      ]
     },
     "execution_count": 19,
     "metadata": {},
     "output_type": "execute_result"
    }
   ],
   "source": [
    "# drop unnecessary columns\n",
    "df_review.drop(columns=[\"score_plus_one\"], inplace=True)\n",
    "df_review"
   ]
  },
  {
   "cell_type": "markdown",
   "id": "c39990d5",
   "metadata": {
    "jp-MarkdownHeadingCollapsed": true
   },
   "source": [
    "## Concat two Dataframes"
   ]
  },
  {
   "cell_type": "code",
   "execution_count": 42,
   "id": "2801b7de",
   "metadata": {},
   "outputs": [
    {
     "data": {
      "text/html": [
       "<div>\n",
       "<style scoped>\n",
       "    .dataframe tbody tr th:only-of-type {\n",
       "        vertical-align: middle;\n",
       "    }\n",
       "\n",
       "    .dataframe tbody tr th {\n",
       "        vertical-align: top;\n",
       "    }\n",
       "\n",
       "    .dataframe thead th {\n",
       "        text-align: right;\n",
       "    }\n",
       "</style>\n",
       "<table border=\"1\" class=\"dataframe\">\n",
       "  <thead>\n",
       "    <tr style=\"text-align: right;\">\n",
       "      <th></th>\n",
       "      <th>user</th>\n",
       "      <th>item</th>\n",
       "      <th>score</th>\n",
       "      <th>review</th>\n",
       "      <th>user_mail</th>\n",
       "    </tr>\n",
       "  </thead>\n",
       "  <tbody>\n",
       "    <tr>\n",
       "      <th>0</th>\n",
       "      <td>U3</td>\n",
       "      <td>I4</td>\n",
       "      <td>3</td>\n",
       "      <td>Good Product</td>\n",
       "      <td>U3@gmail.com</td>\n",
       "    </tr>\n",
       "    <tr>\n",
       "      <th>1</th>\n",
       "      <td>U2</td>\n",
       "      <td>I1</td>\n",
       "      <td>2</td>\n",
       "      <td>dont like it</td>\n",
       "      <td>U2@gmail.com</td>\n",
       "    </tr>\n",
       "  </tbody>\n",
       "</table>\n",
       "</div>"
      ],
      "text/plain": [
       "  user item  score        review     user_mail\n",
       "0   U3   I4      3  Good Product  U3@gmail.com\n",
       "1   U2   I1      2  dont like it  U2@gmail.com"
      ]
     },
     "execution_count": 42,
     "metadata": {},
     "output_type": "execute_result"
    }
   ],
   "source": [
    "df_new = {\n",
    "    \"user\": [\"U3\", \"U2\"],\n",
    "    \"item\": [\"I4\", \"I1\"],\n",
    "    \"score\": [3, 2],\n",
    "    \"review\": [\"Good Product\", \"dont like it\"],\n",
    "    \"user_mail\": [\"U3@gmail.com\", \"U2@gmail.com\"]\n",
    "}\n",
    "df_new = pd.DataFrame(df_new)\n",
    "df_new"
   ]
  },
  {
   "cell_type": "code",
   "execution_count": 43,
   "id": "6cbb52c3",
   "metadata": {},
   "outputs": [
    {
     "data": {
      "text/html": [
       "<div>\n",
       "<style scoped>\n",
       "    .dataframe tbody tr th:only-of-type {\n",
       "        vertical-align: middle;\n",
       "    }\n",
       "\n",
       "    .dataframe tbody tr th {\n",
       "        vertical-align: top;\n",
       "    }\n",
       "\n",
       "    .dataframe thead th {\n",
       "        text-align: right;\n",
       "    }\n",
       "</style>\n",
       "<table border=\"1\" class=\"dataframe\">\n",
       "  <thead>\n",
       "    <tr style=\"text-align: right;\">\n",
       "      <th></th>\n",
       "      <th>user_id</th>\n",
       "      <th>item_id</th>\n",
       "      <th>rating</th>\n",
       "      <th>review_text</th>\n",
       "      <th>user_mail</th>\n",
       "      <th>user</th>\n",
       "    </tr>\n",
       "  </thead>\n",
       "  <tbody>\n",
       "    <tr>\n",
       "      <th>0</th>\n",
       "      <td>U1</td>\n",
       "      <td>I5</td>\n",
       "      <td>5</td>\n",
       "      <td>the best product ever</td>\n",
       "      <td>U1@gmail.com</td>\n",
       "      <td>NaN</td>\n",
       "    </tr>\n",
       "    <tr>\n",
       "      <th>1</th>\n",
       "      <td>user2new</td>\n",
       "      <td>I2</td>\n",
       "      <td>1</td>\n",
       "      <td>too expensive</td>\n",
       "      <td>U2@gmail.com</td>\n",
       "      <td>U2</td>\n",
       "    </tr>\n",
       "    <tr>\n",
       "      <th>2</th>\n",
       "      <td>U3</td>\n",
       "      <td>I1</td>\n",
       "      <td>4</td>\n",
       "      <td>like it</td>\n",
       "      <td>U3@gmail.com</td>\n",
       "      <td>NaN</td>\n",
       "    </tr>\n",
       "    <tr>\n",
       "      <th>3</th>\n",
       "      <td>U4</td>\n",
       "      <td>I1</td>\n",
       "      <td>5</td>\n",
       "      <td>yey</td>\n",
       "      <td>U4@gmail.com</td>\n",
       "      <td>NaN</td>\n",
       "    </tr>\n",
       "  </tbody>\n",
       "</table>\n",
       "</div>"
      ],
      "text/plain": [
       "    user_id item_id  rating            review_text     user_mail user\n",
       "0        U1      I5       5  the best product ever  U1@gmail.com  NaN\n",
       "1  user2new      I2       1          too expensive  U2@gmail.com   U2\n",
       "2        U3      I1       4                like it  U3@gmail.com  NaN\n",
       "3        U4      I1       5                    yey  U4@gmail.com  NaN"
      ]
     },
     "execution_count": 43,
     "metadata": {},
     "output_type": "execute_result"
    }
   ],
   "source": [
    "df_review"
   ]
  },
  {
   "cell_type": "code",
   "execution_count": 44,
   "id": "94f78d5f",
   "metadata": {},
   "outputs": [
    {
     "data": {
      "text/html": [
       "<div>\n",
       "<style scoped>\n",
       "    .dataframe tbody tr th:only-of-type {\n",
       "        vertical-align: middle;\n",
       "    }\n",
       "\n",
       "    .dataframe tbody tr th {\n",
       "        vertical-align: top;\n",
       "    }\n",
       "\n",
       "    .dataframe thead th {\n",
       "        text-align: right;\n",
       "    }\n",
       "</style>\n",
       "<table border=\"1\" class=\"dataframe\">\n",
       "  <thead>\n",
       "    <tr style=\"text-align: right;\">\n",
       "      <th></th>\n",
       "      <th>user_id</th>\n",
       "      <th>item_id</th>\n",
       "      <th>rating</th>\n",
       "      <th>review_text</th>\n",
       "      <th>user_mail</th>\n",
       "      <th>user</th>\n",
       "      <th>item</th>\n",
       "      <th>score</th>\n",
       "      <th>review</th>\n",
       "    </tr>\n",
       "  </thead>\n",
       "  <tbody>\n",
       "    <tr>\n",
       "      <th>0</th>\n",
       "      <td>U1</td>\n",
       "      <td>I5</td>\n",
       "      <td>5.0</td>\n",
       "      <td>the best product ever</td>\n",
       "      <td>U1@gmail.com</td>\n",
       "      <td>NaN</td>\n",
       "      <td>NaN</td>\n",
       "      <td>NaN</td>\n",
       "      <td>NaN</td>\n",
       "    </tr>\n",
       "    <tr>\n",
       "      <th>1</th>\n",
       "      <td>user2new</td>\n",
       "      <td>I2</td>\n",
       "      <td>1.0</td>\n",
       "      <td>too expensive</td>\n",
       "      <td>U2@gmail.com</td>\n",
       "      <td>U2</td>\n",
       "      <td>NaN</td>\n",
       "      <td>NaN</td>\n",
       "      <td>NaN</td>\n",
       "    </tr>\n",
       "    <tr>\n",
       "      <th>2</th>\n",
       "      <td>U3</td>\n",
       "      <td>I1</td>\n",
       "      <td>4.0</td>\n",
       "      <td>like it</td>\n",
       "      <td>U3@gmail.com</td>\n",
       "      <td>NaN</td>\n",
       "      <td>NaN</td>\n",
       "      <td>NaN</td>\n",
       "      <td>NaN</td>\n",
       "    </tr>\n",
       "    <tr>\n",
       "      <th>3</th>\n",
       "      <td>U4</td>\n",
       "      <td>I1</td>\n",
       "      <td>5.0</td>\n",
       "      <td>yey</td>\n",
       "      <td>U4@gmail.com</td>\n",
       "      <td>NaN</td>\n",
       "      <td>NaN</td>\n",
       "      <td>NaN</td>\n",
       "      <td>NaN</td>\n",
       "    </tr>\n",
       "    <tr>\n",
       "      <th>0</th>\n",
       "      <td>NaN</td>\n",
       "      <td>NaN</td>\n",
       "      <td>NaN</td>\n",
       "      <td>NaN</td>\n",
       "      <td>U3@gmail.com</td>\n",
       "      <td>U3</td>\n",
       "      <td>I4</td>\n",
       "      <td>3.0</td>\n",
       "      <td>Good Product</td>\n",
       "    </tr>\n",
       "    <tr>\n",
       "      <th>1</th>\n",
       "      <td>NaN</td>\n",
       "      <td>NaN</td>\n",
       "      <td>NaN</td>\n",
       "      <td>NaN</td>\n",
       "      <td>U2@gmail.com</td>\n",
       "      <td>U2</td>\n",
       "      <td>I1</td>\n",
       "      <td>2.0</td>\n",
       "      <td>dont like it</td>\n",
       "    </tr>\n",
       "  </tbody>\n",
       "</table>\n",
       "</div>"
      ],
      "text/plain": [
       "    user_id item_id  rating            review_text     user_mail user item  \\\n",
       "0        U1      I5     5.0  the best product ever  U1@gmail.com  NaN  NaN   \n",
       "1  user2new      I2     1.0          too expensive  U2@gmail.com   U2  NaN   \n",
       "2        U3      I1     4.0                like it  U3@gmail.com  NaN  NaN   \n",
       "3        U4      I1     5.0                    yey  U4@gmail.com  NaN  NaN   \n",
       "0       NaN     NaN     NaN                    NaN  U3@gmail.com   U3   I4   \n",
       "1       NaN     NaN     NaN                    NaN  U2@gmail.com   U2   I1   \n",
       "\n",
       "   score        review  \n",
       "0    NaN           NaN  \n",
       "1    NaN           NaN  \n",
       "2    NaN           NaN  \n",
       "3    NaN           NaN  \n",
       "0    3.0  Good Product  \n",
       "1    2.0  dont like it  "
      ]
     },
     "execution_count": 44,
     "metadata": {},
     "output_type": "execute_result"
    }
   ],
   "source": [
    "df_temp = pd.concat([df_review, df_new])\n",
    "df_temp"
   ]
  },
  {
   "cell_type": "markdown",
   "id": "f0e4984c",
   "metadata": {},
   "source": [
    "**NOTE**: if you want to concat dataframes side by side, SET AXIS=1\n",
    "See that the below df has more than two rows with the same index. It could be a problem, while removing a row by index. That's why, set ignore_index=True, and pandas assign new index for your newly added rows."
   ]
  },
  {
   "cell_type": "code",
   "execution_count": 45,
   "id": "dee264b7",
   "metadata": {},
   "outputs": [
    {
     "data": {
      "text/html": [
       "<div>\n",
       "<style scoped>\n",
       "    .dataframe tbody tr th:only-of-type {\n",
       "        vertical-align: middle;\n",
       "    }\n",
       "\n",
       "    .dataframe tbody tr th {\n",
       "        vertical-align: top;\n",
       "    }\n",
       "\n",
       "    .dataframe thead th {\n",
       "        text-align: right;\n",
       "    }\n",
       "</style>\n",
       "<table border=\"1\" class=\"dataframe\">\n",
       "  <thead>\n",
       "    <tr style=\"text-align: right;\">\n",
       "      <th></th>\n",
       "      <th>user_id</th>\n",
       "      <th>item_id</th>\n",
       "      <th>rating</th>\n",
       "      <th>review_text</th>\n",
       "      <th>user_mail</th>\n",
       "      <th>user</th>\n",
       "      <th>item</th>\n",
       "      <th>score</th>\n",
       "      <th>review</th>\n",
       "    </tr>\n",
       "  </thead>\n",
       "  <tbody>\n",
       "    <tr>\n",
       "      <th>0</th>\n",
       "      <td>U1</td>\n",
       "      <td>I5</td>\n",
       "      <td>5.0</td>\n",
       "      <td>the best product ever</td>\n",
       "      <td>U1@gmail.com</td>\n",
       "      <td>NaN</td>\n",
       "      <td>NaN</td>\n",
       "      <td>NaN</td>\n",
       "      <td>NaN</td>\n",
       "    </tr>\n",
       "    <tr>\n",
       "      <th>1</th>\n",
       "      <td>user2new</td>\n",
       "      <td>I2</td>\n",
       "      <td>1.0</td>\n",
       "      <td>too expensive</td>\n",
       "      <td>U2@gmail.com</td>\n",
       "      <td>U2</td>\n",
       "      <td>NaN</td>\n",
       "      <td>NaN</td>\n",
       "      <td>NaN</td>\n",
       "    </tr>\n",
       "    <tr>\n",
       "      <th>2</th>\n",
       "      <td>U3</td>\n",
       "      <td>I1</td>\n",
       "      <td>4.0</td>\n",
       "      <td>like it</td>\n",
       "      <td>U3@gmail.com</td>\n",
       "      <td>NaN</td>\n",
       "      <td>NaN</td>\n",
       "      <td>NaN</td>\n",
       "      <td>NaN</td>\n",
       "    </tr>\n",
       "    <tr>\n",
       "      <th>3</th>\n",
       "      <td>U4</td>\n",
       "      <td>I1</td>\n",
       "      <td>5.0</td>\n",
       "      <td>yey</td>\n",
       "      <td>U4@gmail.com</td>\n",
       "      <td>NaN</td>\n",
       "      <td>NaN</td>\n",
       "      <td>NaN</td>\n",
       "      <td>NaN</td>\n",
       "    </tr>\n",
       "    <tr>\n",
       "      <th>4</th>\n",
       "      <td>NaN</td>\n",
       "      <td>NaN</td>\n",
       "      <td>NaN</td>\n",
       "      <td>NaN</td>\n",
       "      <td>U3@gmail.com</td>\n",
       "      <td>U3</td>\n",
       "      <td>I4</td>\n",
       "      <td>3.0</td>\n",
       "      <td>Good Product</td>\n",
       "    </tr>\n",
       "    <tr>\n",
       "      <th>5</th>\n",
       "      <td>NaN</td>\n",
       "      <td>NaN</td>\n",
       "      <td>NaN</td>\n",
       "      <td>NaN</td>\n",
       "      <td>U2@gmail.com</td>\n",
       "      <td>U2</td>\n",
       "      <td>I1</td>\n",
       "      <td>2.0</td>\n",
       "      <td>dont like it</td>\n",
       "    </tr>\n",
       "  </tbody>\n",
       "</table>\n",
       "</div>"
      ],
      "text/plain": [
       "    user_id item_id  rating            review_text     user_mail user item  \\\n",
       "0        U1      I5     5.0  the best product ever  U1@gmail.com  NaN  NaN   \n",
       "1  user2new      I2     1.0          too expensive  U2@gmail.com   U2  NaN   \n",
       "2        U3      I1     4.0                like it  U3@gmail.com  NaN  NaN   \n",
       "3        U4      I1     5.0                    yey  U4@gmail.com  NaN  NaN   \n",
       "4       NaN     NaN     NaN                    NaN  U3@gmail.com   U3   I4   \n",
       "5       NaN     NaN     NaN                    NaN  U2@gmail.com   U2   I1   \n",
       "\n",
       "   score        review  \n",
       "0    NaN           NaN  \n",
       "1    NaN           NaN  \n",
       "2    NaN           NaN  \n",
       "3    NaN           NaN  \n",
       "4    3.0  Good Product  \n",
       "5    2.0  dont like it  "
      ]
     },
     "execution_count": 45,
     "metadata": {},
     "output_type": "execute_result"
    }
   ],
   "source": [
    "df_review = pd.concat([df_review, df_new], ignore_index=True)\n",
    "df_review"
   ]
  },
  {
   "cell_type": "code",
   "execution_count": 46,
   "id": "86da1324",
   "metadata": {},
   "outputs": [],
   "source": [
    "df_review.drop(index=5, inplace=True)"
   ]
  },
  {
   "cell_type": "code",
   "execution_count": 47,
   "id": "b0b8898d",
   "metadata": {},
   "outputs": [
    {
     "data": {
      "text/html": [
       "<div>\n",
       "<style scoped>\n",
       "    .dataframe tbody tr th:only-of-type {\n",
       "        vertical-align: middle;\n",
       "    }\n",
       "\n",
       "    .dataframe tbody tr th {\n",
       "        vertical-align: top;\n",
       "    }\n",
       "\n",
       "    .dataframe thead th {\n",
       "        text-align: right;\n",
       "    }\n",
       "</style>\n",
       "<table border=\"1\" class=\"dataframe\">\n",
       "  <thead>\n",
       "    <tr style=\"text-align: right;\">\n",
       "      <th></th>\n",
       "      <th>user_id</th>\n",
       "      <th>item_id</th>\n",
       "      <th>rating</th>\n",
       "      <th>review_text</th>\n",
       "      <th>user_mail</th>\n",
       "      <th>user</th>\n",
       "      <th>item</th>\n",
       "      <th>score</th>\n",
       "      <th>review</th>\n",
       "    </tr>\n",
       "  </thead>\n",
       "  <tbody>\n",
       "    <tr>\n",
       "      <th>0</th>\n",
       "      <td>U1</td>\n",
       "      <td>I5</td>\n",
       "      <td>5.0</td>\n",
       "      <td>the best product ever</td>\n",
       "      <td>U1@gmail.com</td>\n",
       "      <td>NaN</td>\n",
       "      <td>NaN</td>\n",
       "      <td>NaN</td>\n",
       "      <td>NaN</td>\n",
       "    </tr>\n",
       "    <tr>\n",
       "      <th>1</th>\n",
       "      <td>user2new</td>\n",
       "      <td>I2</td>\n",
       "      <td>1.0</td>\n",
       "      <td>too expensive</td>\n",
       "      <td>U2@gmail.com</td>\n",
       "      <td>U2</td>\n",
       "      <td>NaN</td>\n",
       "      <td>NaN</td>\n",
       "      <td>NaN</td>\n",
       "    </tr>\n",
       "    <tr>\n",
       "      <th>2</th>\n",
       "      <td>U3</td>\n",
       "      <td>I1</td>\n",
       "      <td>4.0</td>\n",
       "      <td>like it</td>\n",
       "      <td>U3@gmail.com</td>\n",
       "      <td>NaN</td>\n",
       "      <td>NaN</td>\n",
       "      <td>NaN</td>\n",
       "      <td>NaN</td>\n",
       "    </tr>\n",
       "    <tr>\n",
       "      <th>3</th>\n",
       "      <td>U4</td>\n",
       "      <td>I1</td>\n",
       "      <td>5.0</td>\n",
       "      <td>yey</td>\n",
       "      <td>U4@gmail.com</td>\n",
       "      <td>NaN</td>\n",
       "      <td>NaN</td>\n",
       "      <td>NaN</td>\n",
       "      <td>NaN</td>\n",
       "    </tr>\n",
       "    <tr>\n",
       "      <th>4</th>\n",
       "      <td>NaN</td>\n",
       "      <td>NaN</td>\n",
       "      <td>NaN</td>\n",
       "      <td>NaN</td>\n",
       "      <td>U3@gmail.com</td>\n",
       "      <td>U3</td>\n",
       "      <td>I4</td>\n",
       "      <td>3.0</td>\n",
       "      <td>Good Product</td>\n",
       "    </tr>\n",
       "  </tbody>\n",
       "</table>\n",
       "</div>"
      ],
      "text/plain": [
       "    user_id item_id  rating            review_text     user_mail user item  \\\n",
       "0        U1      I5     5.0  the best product ever  U1@gmail.com  NaN  NaN   \n",
       "1  user2new      I2     1.0          too expensive  U2@gmail.com   U2  NaN   \n",
       "2        U3      I1     4.0                like it  U3@gmail.com  NaN  NaN   \n",
       "3        U4      I1     5.0                    yey  U4@gmail.com  NaN  NaN   \n",
       "4       NaN     NaN     NaN                    NaN  U3@gmail.com   U3   I4   \n",
       "\n",
       "   score        review  \n",
       "0    NaN           NaN  \n",
       "1    NaN           NaN  \n",
       "2    NaN           NaN  \n",
       "3    NaN           NaN  \n",
       "4    3.0  Good Product  "
      ]
     },
     "execution_count": 47,
     "metadata": {},
     "output_type": "execute_result"
    }
   ],
   "source": [
    "df_review"
   ]
  },
  {
   "cell_type": "code",
   "execution_count": 49,
   "id": "a520de3c",
   "metadata": {
    "scrolled": true
   },
   "outputs": [
    {
     "data": {
      "text/html": [
       "<div>\n",
       "<style scoped>\n",
       "    .dataframe tbody tr th:only-of-type {\n",
       "        vertical-align: middle;\n",
       "    }\n",
       "\n",
       "    .dataframe tbody tr th {\n",
       "        vertical-align: top;\n",
       "    }\n",
       "\n",
       "    .dataframe thead th {\n",
       "        text-align: right;\n",
       "    }\n",
       "</style>\n",
       "<table border=\"1\" class=\"dataframe\">\n",
       "  <thead>\n",
       "    <tr style=\"text-align: right;\">\n",
       "      <th></th>\n",
       "      <th>user_id</th>\n",
       "      <th>item_id</th>\n",
       "      <th>rating</th>\n",
       "      <th>review_text</th>\n",
       "      <th>user_mail</th>\n",
       "      <th>user</th>\n",
       "      <th>item</th>\n",
       "      <th>score</th>\n",
       "      <th>review</th>\n",
       "    </tr>\n",
       "  </thead>\n",
       "  <tbody>\n",
       "    <tr>\n",
       "      <th>0</th>\n",
       "      <td>U1</td>\n",
       "      <td>I5</td>\n",
       "      <td>5.0</td>\n",
       "      <td>the best product ever</td>\n",
       "      <td>U1@gmail.com</td>\n",
       "      <td>NaN</td>\n",
       "      <td>NaN</td>\n",
       "      <td>NaN</td>\n",
       "      <td>NaN</td>\n",
       "    </tr>\n",
       "    <tr>\n",
       "      <th>1</th>\n",
       "      <td>user2new</td>\n",
       "      <td>I2</td>\n",
       "      <td>1.0</td>\n",
       "      <td>too expensive</td>\n",
       "      <td>U2@gmail.com</td>\n",
       "      <td>U2</td>\n",
       "      <td>NaN</td>\n",
       "      <td>NaN</td>\n",
       "      <td>NaN</td>\n",
       "    </tr>\n",
       "    <tr>\n",
       "      <th>2</th>\n",
       "      <td>U3</td>\n",
       "      <td>I1</td>\n",
       "      <td>4.0</td>\n",
       "      <td>like it</td>\n",
       "      <td>U3@gmail.com</td>\n",
       "      <td>NaN</td>\n",
       "      <td>NaN</td>\n",
       "      <td>NaN</td>\n",
       "      <td>NaN</td>\n",
       "    </tr>\n",
       "    <tr>\n",
       "      <th>3</th>\n",
       "      <td>U4</td>\n",
       "      <td>I1</td>\n",
       "      <td>5.0</td>\n",
       "      <td>yey</td>\n",
       "      <td>U4@gmail.com</td>\n",
       "      <td>NaN</td>\n",
       "      <td>NaN</td>\n",
       "      <td>NaN</td>\n",
       "      <td>NaN</td>\n",
       "    </tr>\n",
       "  </tbody>\n",
       "</table>\n",
       "</div>"
      ],
      "text/plain": [
       "    user_id item_id  rating            review_text     user_mail user item  \\\n",
       "0        U1      I5     5.0  the best product ever  U1@gmail.com  NaN  NaN   \n",
       "1  user2new      I2     1.0          too expensive  U2@gmail.com   U2  NaN   \n",
       "2        U3      I1     4.0                like it  U3@gmail.com  NaN  NaN   \n",
       "3        U4      I1     5.0                    yey  U4@gmail.com  NaN  NaN   \n",
       "\n",
       "   score review  \n",
       "0    NaN    NaN  \n",
       "1    NaN    NaN  \n",
       "2    NaN    NaN  \n",
       "3    NaN    NaN  "
      ]
     },
     "execution_count": 49,
     "metadata": {},
     "output_type": "execute_result"
    }
   ],
   "source": [
    "# drop rows by condition. First define condition, and then take the index of rows those satisfy the condition\n",
    "cond = df_review[\"user\"]==\"U3\"\n",
    "cond\n",
    "df_review.drop(index=df_review[cond].index)"
   ]
  },
  {
   "cell_type": "markdown",
   "id": "d25144d9",
   "metadata": {
    "jp-MarkdownHeadingCollapsed": true
   },
   "source": [
    "## Sorting Data"
   ]
  },
  {
   "cell_type": "code",
   "execution_count": 25,
   "id": "736753d4",
   "metadata": {
    "scrolled": true
   },
   "outputs": [
    {
     "data": {
      "text/html": [
       "<div>\n",
       "<style scoped>\n",
       "    .dataframe tbody tr th:only-of-type {\n",
       "        vertical-align: middle;\n",
       "    }\n",
       "\n",
       "    .dataframe tbody tr th {\n",
       "        vertical-align: top;\n",
       "    }\n",
       "\n",
       "    .dataframe thead th {\n",
       "        text-align: right;\n",
       "    }\n",
       "</style>\n",
       "<table border=\"1\" class=\"dataframe\">\n",
       "  <thead>\n",
       "    <tr style=\"text-align: right;\">\n",
       "      <th></th>\n",
       "      <th>user</th>\n",
       "      <th>item</th>\n",
       "      <th>score</th>\n",
       "      <th>review</th>\n",
       "      <th>user_mail</th>\n",
       "      <th>score_review</th>\n",
       "    </tr>\n",
       "  </thead>\n",
       "  <tbody>\n",
       "    <tr>\n",
       "      <th>0</th>\n",
       "      <td>U1</td>\n",
       "      <td>I5</td>\n",
       "      <td>5</td>\n",
       "      <td>the best product ever</td>\n",
       "      <td>U1@gmail.com</td>\n",
       "      <td>5_the best product ever</td>\n",
       "    </tr>\n",
       "    <tr>\n",
       "      <th>1</th>\n",
       "      <td>U2</td>\n",
       "      <td>I2</td>\n",
       "      <td>1</td>\n",
       "      <td>too expensive</td>\n",
       "      <td>U2@gmail.com</td>\n",
       "      <td>1_too expensive</td>\n",
       "    </tr>\n",
       "    <tr>\n",
       "      <th>2</th>\n",
       "      <td>U3</td>\n",
       "      <td>I1</td>\n",
       "      <td>4</td>\n",
       "      <td>like it</td>\n",
       "      <td>U3@gmail.com</td>\n",
       "      <td>4_like it</td>\n",
       "    </tr>\n",
       "    <tr>\n",
       "      <th>4</th>\n",
       "      <td>U3</td>\n",
       "      <td>I4</td>\n",
       "      <td>3</td>\n",
       "      <td>Good Product</td>\n",
       "      <td>U3@gmail.com</td>\n",
       "      <td>NaN</td>\n",
       "    </tr>\n",
       "    <tr>\n",
       "      <th>3</th>\n",
       "      <td>U4</td>\n",
       "      <td>I1</td>\n",
       "      <td>5</td>\n",
       "      <td>yey</td>\n",
       "      <td>U4@gmail.com</td>\n",
       "      <td>5_yey</td>\n",
       "    </tr>\n",
       "  </tbody>\n",
       "</table>\n",
       "</div>"
      ],
      "text/plain": [
       "  user item  score                 review     user_mail  \\\n",
       "0   U1   I5      5  the best product ever  U1@gmail.com   \n",
       "1   U2   I2      1          too expensive  U2@gmail.com   \n",
       "2   U3   I1      4                like it  U3@gmail.com   \n",
       "4   U3   I4      3           Good Product  U3@gmail.com   \n",
       "3   U4   I1      5                    yey  U4@gmail.com   \n",
       "\n",
       "              score_review  \n",
       "0  5_the best product ever  \n",
       "1          1_too expensive  \n",
       "2                4_like it  \n",
       "4                      NaN  \n",
       "3                    5_yey  "
      ]
     },
     "execution_count": 25,
     "metadata": {},
     "output_type": "execute_result"
    }
   ],
   "source": [
    "df_review.sort_values(by=\"user\")"
   ]
  },
  {
   "cell_type": "code",
   "execution_count": 50,
   "id": "27b3f57c",
   "metadata": {
    "scrolled": true
   },
   "outputs": [
    {
     "data": {
      "text/html": [
       "<div>\n",
       "<style scoped>\n",
       "    .dataframe tbody tr th:only-of-type {\n",
       "        vertical-align: middle;\n",
       "    }\n",
       "\n",
       "    .dataframe tbody tr th {\n",
       "        vertical-align: top;\n",
       "    }\n",
       "\n",
       "    .dataframe thead th {\n",
       "        text-align: right;\n",
       "    }\n",
       "</style>\n",
       "<table border=\"1\" class=\"dataframe\">\n",
       "  <thead>\n",
       "    <tr style=\"text-align: right;\">\n",
       "      <th></th>\n",
       "      <th>user_id</th>\n",
       "      <th>item_id</th>\n",
       "      <th>rating</th>\n",
       "      <th>review_text</th>\n",
       "      <th>user_mail</th>\n",
       "      <th>user</th>\n",
       "      <th>item</th>\n",
       "      <th>score</th>\n",
       "      <th>review</th>\n",
       "    </tr>\n",
       "  </thead>\n",
       "  <tbody>\n",
       "    <tr>\n",
       "      <th>1</th>\n",
       "      <td>user2new</td>\n",
       "      <td>I2</td>\n",
       "      <td>1.0</td>\n",
       "      <td>too expensive</td>\n",
       "      <td>U2@gmail.com</td>\n",
       "      <td>U2</td>\n",
       "      <td>NaN</td>\n",
       "      <td>NaN</td>\n",
       "      <td>NaN</td>\n",
       "    </tr>\n",
       "    <tr>\n",
       "      <th>4</th>\n",
       "      <td>NaN</td>\n",
       "      <td>NaN</td>\n",
       "      <td>NaN</td>\n",
       "      <td>NaN</td>\n",
       "      <td>U3@gmail.com</td>\n",
       "      <td>U3</td>\n",
       "      <td>I4</td>\n",
       "      <td>3.0</td>\n",
       "      <td>Good Product</td>\n",
       "    </tr>\n",
       "    <tr>\n",
       "      <th>0</th>\n",
       "      <td>U1</td>\n",
       "      <td>I5</td>\n",
       "      <td>5.0</td>\n",
       "      <td>the best product ever</td>\n",
       "      <td>U1@gmail.com</td>\n",
       "      <td>NaN</td>\n",
       "      <td>NaN</td>\n",
       "      <td>NaN</td>\n",
       "      <td>NaN</td>\n",
       "    </tr>\n",
       "    <tr>\n",
       "      <th>2</th>\n",
       "      <td>U3</td>\n",
       "      <td>I1</td>\n",
       "      <td>4.0</td>\n",
       "      <td>like it</td>\n",
       "      <td>U3@gmail.com</td>\n",
       "      <td>NaN</td>\n",
       "      <td>NaN</td>\n",
       "      <td>NaN</td>\n",
       "      <td>NaN</td>\n",
       "    </tr>\n",
       "    <tr>\n",
       "      <th>3</th>\n",
       "      <td>U4</td>\n",
       "      <td>I1</td>\n",
       "      <td>5.0</td>\n",
       "      <td>yey</td>\n",
       "      <td>U4@gmail.com</td>\n",
       "      <td>NaN</td>\n",
       "      <td>NaN</td>\n",
       "      <td>NaN</td>\n",
       "      <td>NaN</td>\n",
       "    </tr>\n",
       "  </tbody>\n",
       "</table>\n",
       "</div>"
      ],
      "text/plain": [
       "    user_id item_id  rating            review_text     user_mail user item  \\\n",
       "1  user2new      I2     1.0          too expensive  U2@gmail.com   U2  NaN   \n",
       "4       NaN     NaN     NaN                    NaN  U3@gmail.com   U3   I4   \n",
       "0        U1      I5     5.0  the best product ever  U1@gmail.com  NaN  NaN   \n",
       "2        U3      I1     4.0                like it  U3@gmail.com  NaN  NaN   \n",
       "3        U4      I1     5.0                    yey  U4@gmail.com  NaN  NaN   \n",
       "\n",
       "   score        review  \n",
       "1    NaN           NaN  \n",
       "4    3.0  Good Product  \n",
       "0    NaN           NaN  \n",
       "2    NaN           NaN  \n",
       "3    NaN           NaN  "
      ]
     },
     "execution_count": 50,
     "metadata": {},
     "output_type": "execute_result"
    }
   ],
   "source": [
    "df_review.sort_values(by=\"user\", ascending=True)"
   ]
  },
  {
   "cell_type": "code",
   "execution_count": 51,
   "id": "4a542dd7",
   "metadata": {},
   "outputs": [
    {
     "data": {
      "text/html": [
       "<div>\n",
       "<style scoped>\n",
       "    .dataframe tbody tr th:only-of-type {\n",
       "        vertical-align: middle;\n",
       "    }\n",
       "\n",
       "    .dataframe tbody tr th {\n",
       "        vertical-align: top;\n",
       "    }\n",
       "\n",
       "    .dataframe thead th {\n",
       "        text-align: right;\n",
       "    }\n",
       "</style>\n",
       "<table border=\"1\" class=\"dataframe\">\n",
       "  <thead>\n",
       "    <tr style=\"text-align: right;\">\n",
       "      <th></th>\n",
       "      <th>user_id</th>\n",
       "      <th>item_id</th>\n",
       "      <th>rating</th>\n",
       "      <th>review_text</th>\n",
       "      <th>user_mail</th>\n",
       "      <th>user</th>\n",
       "      <th>item</th>\n",
       "      <th>score</th>\n",
       "      <th>review</th>\n",
       "    </tr>\n",
       "  </thead>\n",
       "  <tbody>\n",
       "    <tr>\n",
       "      <th>1</th>\n",
       "      <td>user2new</td>\n",
       "      <td>I2</td>\n",
       "      <td>1.0</td>\n",
       "      <td>too expensive</td>\n",
       "      <td>U2@gmail.com</td>\n",
       "      <td>U2</td>\n",
       "      <td>NaN</td>\n",
       "      <td>NaN</td>\n",
       "      <td>NaN</td>\n",
       "    </tr>\n",
       "    <tr>\n",
       "      <th>4</th>\n",
       "      <td>NaN</td>\n",
       "      <td>NaN</td>\n",
       "      <td>NaN</td>\n",
       "      <td>NaN</td>\n",
       "      <td>U3@gmail.com</td>\n",
       "      <td>U3</td>\n",
       "      <td>I4</td>\n",
       "      <td>3.0</td>\n",
       "      <td>Good Product</td>\n",
       "    </tr>\n",
       "    <tr>\n",
       "      <th>0</th>\n",
       "      <td>U1</td>\n",
       "      <td>I5</td>\n",
       "      <td>5.0</td>\n",
       "      <td>the best product ever</td>\n",
       "      <td>U1@gmail.com</td>\n",
       "      <td>NaN</td>\n",
       "      <td>NaN</td>\n",
       "      <td>NaN</td>\n",
       "      <td>NaN</td>\n",
       "    </tr>\n",
       "    <tr>\n",
       "      <th>2</th>\n",
       "      <td>U3</td>\n",
       "      <td>I1</td>\n",
       "      <td>4.0</td>\n",
       "      <td>like it</td>\n",
       "      <td>U3@gmail.com</td>\n",
       "      <td>NaN</td>\n",
       "      <td>NaN</td>\n",
       "      <td>NaN</td>\n",
       "      <td>NaN</td>\n",
       "    </tr>\n",
       "    <tr>\n",
       "      <th>3</th>\n",
       "      <td>U4</td>\n",
       "      <td>I1</td>\n",
       "      <td>5.0</td>\n",
       "      <td>yey</td>\n",
       "      <td>U4@gmail.com</td>\n",
       "      <td>NaN</td>\n",
       "      <td>NaN</td>\n",
       "      <td>NaN</td>\n",
       "      <td>NaN</td>\n",
       "    </tr>\n",
       "  </tbody>\n",
       "</table>\n",
       "</div>"
      ],
      "text/plain": [
       "    user_id item_id  rating            review_text     user_mail user item  \\\n",
       "1  user2new      I2     1.0          too expensive  U2@gmail.com   U2  NaN   \n",
       "4       NaN     NaN     NaN                    NaN  U3@gmail.com   U3   I4   \n",
       "0        U1      I5     5.0  the best product ever  U1@gmail.com  NaN  NaN   \n",
       "2        U3      I1     4.0                like it  U3@gmail.com  NaN  NaN   \n",
       "3        U4      I1     5.0                    yey  U4@gmail.com  NaN  NaN   \n",
       "\n",
       "   score        review  \n",
       "1    NaN           NaN  \n",
       "4    3.0  Good Product  \n",
       "0    NaN           NaN  \n",
       "2    NaN           NaN  \n",
       "3    NaN           NaN  "
      ]
     },
     "execution_count": 51,
     "metadata": {},
     "output_type": "execute_result"
    }
   ],
   "source": [
    "df_review.sort_values(by=[\"user\", \"item\"])"
   ]
  },
  {
   "cell_type": "code",
   "execution_count": 28,
   "id": "a04e0ab6",
   "metadata": {
    "scrolled": true
   },
   "outputs": [
    {
     "data": {
      "text/html": [
       "<div>\n",
       "<style scoped>\n",
       "    .dataframe tbody tr th:only-of-type {\n",
       "        vertical-align: middle;\n",
       "    }\n",
       "\n",
       "    .dataframe tbody tr th {\n",
       "        vertical-align: top;\n",
       "    }\n",
       "\n",
       "    .dataframe thead th {\n",
       "        text-align: right;\n",
       "    }\n",
       "</style>\n",
       "<table border=\"1\" class=\"dataframe\">\n",
       "  <thead>\n",
       "    <tr style=\"text-align: right;\">\n",
       "      <th></th>\n",
       "      <th>user</th>\n",
       "      <th>item</th>\n",
       "      <th>score</th>\n",
       "      <th>review</th>\n",
       "      <th>user_mail</th>\n",
       "      <th>score_review</th>\n",
       "    </tr>\n",
       "  </thead>\n",
       "  <tbody>\n",
       "    <tr>\n",
       "      <th>0</th>\n",
       "      <td>U1</td>\n",
       "      <td>I5</td>\n",
       "      <td>5</td>\n",
       "      <td>the best product ever</td>\n",
       "      <td>U1@gmail.com</td>\n",
       "      <td>5_the best product ever</td>\n",
       "    </tr>\n",
       "    <tr>\n",
       "      <th>1</th>\n",
       "      <td>U2</td>\n",
       "      <td>I2</td>\n",
       "      <td>1</td>\n",
       "      <td>too expensive</td>\n",
       "      <td>U2@gmail.com</td>\n",
       "      <td>1_too expensive</td>\n",
       "    </tr>\n",
       "    <tr>\n",
       "      <th>4</th>\n",
       "      <td>U3</td>\n",
       "      <td>I4</td>\n",
       "      <td>3</td>\n",
       "      <td>Good Product</td>\n",
       "      <td>U3@gmail.com</td>\n",
       "      <td>NaN</td>\n",
       "    </tr>\n",
       "    <tr>\n",
       "      <th>2</th>\n",
       "      <td>U3</td>\n",
       "      <td>I1</td>\n",
       "      <td>4</td>\n",
       "      <td>like it</td>\n",
       "      <td>U3@gmail.com</td>\n",
       "      <td>4_like it</td>\n",
       "    </tr>\n",
       "    <tr>\n",
       "      <th>3</th>\n",
       "      <td>U4</td>\n",
       "      <td>I1</td>\n",
       "      <td>5</td>\n",
       "      <td>yey</td>\n",
       "      <td>U4@gmail.com</td>\n",
       "      <td>5_yey</td>\n",
       "    </tr>\n",
       "  </tbody>\n",
       "</table>\n",
       "</div>"
      ],
      "text/plain": [
       "  user item  score                 review     user_mail  \\\n",
       "0   U1   I5      5  the best product ever  U1@gmail.com   \n",
       "1   U2   I2      1          too expensive  U2@gmail.com   \n",
       "4   U3   I4      3           Good Product  U3@gmail.com   \n",
       "2   U3   I1      4                like it  U3@gmail.com   \n",
       "3   U4   I1      5                    yey  U4@gmail.com   \n",
       "\n",
       "              score_review  \n",
       "0  5_the best product ever  \n",
       "1          1_too expensive  \n",
       "4                      NaN  \n",
       "2                4_like it  \n",
       "3                    5_yey  "
      ]
     },
     "execution_count": 28,
     "metadata": {},
     "output_type": "execute_result"
    }
   ],
   "source": [
    "df_review.sort_values(by=[\"user\", \"item\"], ascending= [True, False])"
   ]
  },
  {
   "cell_type": "markdown",
   "id": "9c9d6b93",
   "metadata": {},
   "source": [
    "## Data Type Check"
   ]
  },
  {
   "cell_type": "markdown",
   "id": "dc47e823",
   "metadata": {
    "jp-MarkdownHeadingCollapsed": true
   },
   "source": [
    "### Convert All Columns into their correct data type \n",
    " *   Clean the columns, remove unwanted characters\n",
    " *   **ValueError: could not convert string to float (or int) in Python** occurs when we pass a string that cannot be converted to a float (empty string or one containing characters)\n",
    " *   pd.to_numeric() -> return dtypes float64 or int64 depending on the data supplied"
   ]
  },
  {
   "cell_type": "code",
   "execution_count": 29,
   "id": "180d4277",
   "metadata": {},
   "outputs": [
    {
     "data": {
      "text/plain": [
       "ID                           object\n",
       "Customer_ID                  object\n",
       "Month                        object\n",
       "Name                         object\n",
       "Age                          object\n",
       "SSN                          object\n",
       "Occupation                   object\n",
       "Annual_Income                object\n",
       "Monthly_Inhand_Salary       float64\n",
       "Num_Bank_Accounts             int64\n",
       "Num_Credit_Card               int64\n",
       "Interest_Rate                 int64\n",
       "Num_of_Loan                  object\n",
       "Type_of_Loan                 object\n",
       "Delay_from_due_date           int64\n",
       "Num_of_Delayed_Payment       object\n",
       "Changed_Credit_Limit         object\n",
       "Num_Credit_Inquiries        float64\n",
       "Credit_Mix                   object\n",
       "Outstanding_Debt             object\n",
       "Credit_Utilization_Ratio    float64\n",
       "Credit_History_Age           object\n",
       "Payment_of_Min_Amount        object\n",
       "Total_EMI_per_month         float64\n",
       "Amount_invested_monthly      object\n",
       "Payment_Behaviour            object\n",
       "Monthly_Balance              object\n",
       "Credit_Score                 object\n",
       "dtype: object"
      ]
     },
     "execution_count": 29,
     "metadata": {},
     "output_type": "execute_result"
    }
   ],
   "source": [
    "df.dtypes"
   ]
  },
  {
   "cell_type": "code",
   "execution_count": 55,
   "id": "b5643b20",
   "metadata": {},
   "outputs": [],
   "source": [
    "object_to_float_columns = [\"Annual_Income\", \"Changed_Credit_Limit\", \"Outstanding_Debt\", \"Amount_invested_monthly\", \"Monthly_Balance\"]\n",
    "object_to_int_columns = [\"Age\", \"Num_of_Loan\", \"Num_of_Delayed_Payment\"]\n",
    "# r'[^0-9.-]' is a regular expression pattern that matches any character that is not a digit (0-9), a period (.), or a hyphen (-).\n",
    "for col in (object_to_float_columns + object_to_int_columns):\n",
    "    df[col] = df[col].apply(lambda x: re.sub(r'[^0-9.-]', '', str(x)))\n",
    "    #errors=\"coerce\" is an optional argument that specifies how to handle errors during the conversion. \n",
    "    #When errors is set to \"coerce,\" any value that cannot be converted to a numeric type will be replaced with NaN (Not-a-Number).\n",
    "    # coerce -> converts any value error to NaN\n",
    "    df[col] = pd.to_numeric(df[col], errors=\"coerce\")"
   ]
  },
  {
   "cell_type": "code",
   "execution_count": 56,
   "id": "fe94d6b0",
   "metadata": {
    "scrolled": true
   },
   "outputs": [
    {
     "data": {
      "text/plain": [
       "ID                           object\n",
       "Customer_ID                  object\n",
       "Month                        object\n",
       "Name                         object\n",
       "Age                           int64\n",
       "SSN                          object\n",
       "Occupation                   object\n",
       "Annual_Income               float64\n",
       "Monthly_Inhand_Salary       float64\n",
       "Num_Bank_Accounts             int64\n",
       "Num_Credit_Card               int64\n",
       "Interest_Rate                 int64\n",
       "Num_of_Loan                   int64\n",
       "Type_of_Loan                 object\n",
       "Delay_from_due_date           int64\n",
       "Num_of_Delayed_Payment      float64\n",
       "Changed_Credit_Limit        float64\n",
       "Num_Credit_Inquiries        float64\n",
       "Credit_Mix                   object\n",
       "Outstanding_Debt            float64\n",
       "Credit_Utilization_Ratio    float64\n",
       "Credit_History_Age           object\n",
       "Payment_of_Min_Amount        object\n",
       "Total_EMI_per_month         float64\n",
       "Amount_invested_monthly     float64\n",
       "Payment_Behaviour            object\n",
       "Monthly_Balance             float64\n",
       "Credit_Score                 object\n",
       "dtype: object"
      ]
     },
     "execution_count": 56,
     "metadata": {},
     "output_type": "execute_result"
    }
   ],
   "source": [
    "# check dtypes again\n",
    "df.dtypes"
   ]
  },
  {
   "cell_type": "markdown",
   "id": "a7e34637",
   "metadata": {
    "jp-MarkdownHeadingCollapsed": true
   },
   "source": [
    "## Data Dropping\n",
    "*   Drop Duplicates : duplicated rows don't give information to us\n",
    "*   Drop Null-Target Rows : target value cannot be null, can yield a problem"
   ]
  },
  {
   "cell_type": "code",
   "execution_count": 57,
   "id": "21adf898",
   "metadata": {},
   "outputs": [
    {
     "name": "stdout",
     "output_type": "stream",
     "text": [
      "How many columns are duplicated ?  0\n",
      "How many columns are duplicated ?  0\n",
      "Number of rows deleted:  0\n"
     ]
    }
   ],
   "source": [
    "# Check Duplicates using duplicated method\n",
    "# If there are duplicated rows, remove one of them\n",
    "# 1. way:\n",
    "print(\"How many rows are duplicated ? \", df[df.duplicated()].shape[0])\n",
    "# 2. way:\n",
    "print(\"How many columns are duplicated ? \", df.duplicated().sum())\n",
    "\n",
    "shape_before = df.shape[0]\n",
    "# And remove if exist:\n",
    "df = df.drop_duplicates(keep=\"first\")\n",
    "shape_after = df.shape[0]\n",
    "\n",
    "# Check how many rows are deleted\n",
    "print(\"Number of rows deleted: \", shape_before - shape_after)"
   ]
  },
  {
   "cell_type": "code",
   "execution_count": 33,
   "id": "986386b9",
   "metadata": {},
   "outputs": [
    {
     "data": {
      "text/plain": [
       "0"
      ]
     },
     "execution_count": 33,
     "metadata": {},
     "output_type": "execute_result"
    }
   ],
   "source": [
    "df[\"Credit_Score\"].isna().sum()\n",
    "# There are no rows with target value is NaN. If exists, remove them."
   ]
  },
  {
   "cell_type": "markdown",
   "id": "6298723a",
   "metadata": {},
   "source": [
    "## Outlier Detection and Handling\n",
    "*   Go over each features and detect their outliers\n",
    "*   Handle numeric and categorial features seperately\n",
    "*   Use boxplot or histogram to see hte outlier values using visualization\n",
    "*   Use Bar chart to see the outlier values using visualization\n"
   ]
  },
  {
   "cell_type": "code",
   "execution_count": 34,
   "id": "2c3643e5",
   "metadata": {},
   "outputs": [
    {
     "data": {
      "text/plain": [
       "Index(['Age', 'Annual_Income', 'Monthly_Inhand_Salary', 'Num_Bank_Accounts',\n",
       "       'Num_Credit_Card', 'Interest_Rate', 'Num_of_Loan',\n",
       "       'Delay_from_due_date', 'Num_of_Delayed_Payment', 'Changed_Credit_Limit',\n",
       "       'Num_Credit_Inquiries', 'Outstanding_Debt', 'Credit_Utilization_Ratio',\n",
       "       'Total_EMI_per_month', 'Amount_invested_monthly', 'Monthly_Balance'],\n",
       "      dtype='object')"
      ]
     },
     "execution_count": 34,
     "metadata": {},
     "output_type": "execute_result"
    }
   ],
   "source": [
    "# Take the names of numeric columns, we use boxplot and hist for them\n",
    "numerics = ['int16', 'int32', 'int64', 'float16', 'float32', 'float64']\n",
    "\n",
    "numeric_columns = df.select_dtypes(include=numerics).columns\n",
    "numeric_columns"
   ]
  },
  {
   "cell_type": "markdown",
   "id": "d7191709",
   "metadata": {},
   "source": [
    "#### Age Column\n",
    "* It is not expected to be older than 100 and younger than 1. \n",
    "* First check the data loss in the case of drop the rows.  \n",
    "* If the number of dropped values can be discarded, Do **filtering**. otherwise try to use **Compressing**"
   ]
  },
  {
   "cell_type": "code",
   "execution_count": 35,
   "id": "d0c90ab7",
   "metadata": {},
   "outputs": [
    {
     "name": "stdout",
     "output_type": "stream",
     "text": [
      "True     97219\n",
      "False     2781\n",
      "Name: Age, dtype: int64\n"
     ]
    }
   ],
   "source": [
    "print(((df['Age'] <= 90) & (df['Age'] >= 0)).value_counts())"
   ]
  },
  {
   "cell_type": "code",
   "execution_count": 36,
   "id": "a8acfd8e",
   "metadata": {},
   "outputs": [
    {
     "data": {
      "text/plain": [
       "(97219, 28)"
      ]
     },
     "execution_count": 36,
     "metadata": {},
     "output_type": "execute_result"
    }
   ],
   "source": [
    "# Do Filtering. \n",
    "df = df[(df['Age'] <= 90) & (df['Age'] >= 0)]\n",
    "df.shape"
   ]
  },
  {
   "cell_type": "markdown",
   "id": "b097c2f2",
   "metadata": {},
   "source": [
    "#### Num_Bank_Accounts Column"
   ]
  },
  {
   "cell_type": "code",
   "execution_count": 37,
   "id": "8f6a3db2",
   "metadata": {
    "scrolled": true
   },
   "outputs": [
    {
     "data": {
      "text/plain": [
       "<AxesSubplot:xlabel='Num_Bank_Accounts'>"
      ]
     },
     "execution_count": 37,
     "metadata": {},
     "output_type": "execute_result"
    },
    {
     "data": {
      "image/png": "[encoded data removed]",
      "text/plain": [
       "<Figure size 432x288 with 1 Axes>"
      ]
     },
     "metadata": {
      "needs_background": "light"
     },
     "output_type": "display_data"
    }
   ],
   "source": [
    "sns.boxplot(x=df[\"Num_Bank_Accounts\"])"
   ]
  },
  {
   "cell_type": "code",
   "execution_count": 38,
   "id": "9626b774",
   "metadata": {
    "scrolled": true
   },
   "outputs": [
    {
     "data": {
      "text/plain": [
       "count    97219.000000\n",
       "mean        17.128658\n",
       "std        117.690107\n",
       "min         -1.000000\n",
       "25%          3.000000\n",
       "50%          6.000000\n",
       "75%          7.000000\n",
       "max       1798.000000\n",
       "Name: Num_Bank_Accounts, dtype: float64"
      ]
     },
     "execution_count": 38,
     "metadata": {},
     "output_type": "execute_result"
    }
   ],
   "source": [
    "df[\"Num_Bank_Accounts\"].describe()"
   ]
  },
  {
   "cell_type": "code",
   "execution_count": 39,
   "id": "5066fefd",
   "metadata": {},
   "outputs": [
    {
     "data": {
      "text/plain": [
       "(1274, 28)"
      ]
     },
     "execution_count": 39,
     "metadata": {},
     "output_type": "execute_result"
    }
   ],
   "source": [
    "#select threshold as 30 and see how mony rows will be dropped\n",
    "df[df[\"Num_Bank_Accounts\"] > 30].shape"
   ]
  },
  {
   "cell_type": "code",
   "execution_count": 40,
   "id": "8dbc82b4",
   "metadata": {},
   "outputs": [],
   "source": [
    "df = df[df[\"Num_Bank_Accounts\"] <= 30]"
   ]
  },
  {
   "cell_type": "code",
   "execution_count": 41,
   "id": "f205a4ed",
   "metadata": {},
   "outputs": [
    {
     "data": {
      "text/plain": [
       "(95945, 28)"
      ]
     },
     "execution_count": 41,
     "metadata": {},
     "output_type": "execute_result"
    }
   ],
   "source": [
    "df.shape"
   ]
  },
  {
   "cell_type": "markdown",
   "id": "34af6d15",
   "metadata": {},
   "source": [
    "### **TODO:** There are still some columns with outlier values. You can try to find and handle them. You can try to implement different outlier detection and handling techniques for practice.\n",
    "<br>\n",
    "<br>\n",
    "'Annual_Income', 'Monthly_Inhand_Salary', 'Num_Credit_Card', 'Interest_Rate', 'Num_of_Loan', 'Delay_from_due_date', 'Num_of_Delayed_Payment', 'Changed_Credit_Limit','Num_Credit_Inquiries', 'Outstanding_Debt', 'Credit_Utilization_Ratio', 'Total_EMI_per_month', 'Amount_invested_monthly', 'Monthly_Balance'"
   ]
  },
  {
   "cell_type": "markdown",
   "id": "3274b117",
   "metadata": {},
   "source": [
    "## CATEGORICAL TO NUMERIC COLUMNS\n",
    "* **Type_of_Loan**"
   ]
  },
  {
   "cell_type": "markdown",
   "id": "4fd47f26",
   "metadata": {},
   "source": [
    "### TODO: \n",
    "* Create one-hot encoded columns using the Type_of_Loan column. Example: You should create n different columns and n is the number of unique loan types in the column. If the row has the AutoLoan value, then the value for AutoLoan column should be 1, otherwise 0.\n",
    "* DO NOT use for loops."
   ]
  },
  {
   "cell_type": "code",
   "execution_count": 42,
   "id": "1780fb05",
   "metadata": {},
   "outputs": [
    {
     "data": {
      "text/plain": [
       "0        [Auto Loan,  Credit-Builder Loan,  Personal Lo...\n",
       "1        [Auto Loan,  Credit-Builder Loan,  Personal Lo...\n",
       "3        [Auto Loan,  Credit-Builder Loan,  Personal Lo...\n",
       "4        [Auto Loan,  Credit-Builder Loan,  Personal Lo...\n",
       "5        [Auto Loan,  Credit-Builder Loan,  Personal Lo...\n",
       "                               ...                        \n",
       "99995                       [Auto Loan,  and Student Loan]\n",
       "99996                       [Auto Loan,  and Student Loan]\n",
       "99997                       [Auto Loan,  and Student Loan]\n",
       "99998                       [Auto Loan,  and Student Loan]\n",
       "99999                       [Auto Loan,  and Student Loan]\n",
       "Name: Type_of_Loan, Length: 95945, dtype: object"
      ]
     },
     "execution_count": 42,
     "metadata": {},
     "output_type": "execute_result"
    }
   ],
   "source": [
    "df[\"Type_of_Loan\"].str.split(\",\")"
   ]
  },
  {
   "cell_type": "code",
   "execution_count": 61,
   "id": "f822be90",
   "metadata": {},
   "outputs": [],
   "source": [
    "# Remove unwanted characters to get the unique loan types\n",
    "df[\"Type_of_Loan2\"] = df[\"Type_of_Loan\"].str.replace(\"and\", \"\")\n",
    "df[\"Type_of_Loan2\"] = df[\"Type_of_Loan2\"].str.replace(\" \", \"\")"
   ]
  },
  {
   "cell_type": "code",
   "execution_count": 62,
   "id": "8ef25c50",
   "metadata": {},
   "outputs": [
    {
     "data": {
      "text/plain": [
       "0        [AutoLoan, Credit-BuilderLoan, PersonalLoan, H...\n",
       "1        [AutoLoan, Credit-BuilderLoan, PersonalLoan, H...\n",
       "2        [AutoLoan, Credit-BuilderLoan, PersonalLoan, H...\n",
       "3        [AutoLoan, Credit-BuilderLoan, PersonalLoan, H...\n",
       "4        [AutoLoan, Credit-BuilderLoan, PersonalLoan, H...\n",
       "                               ...                        \n",
       "99995                              [AutoLoan, StudentLoan]\n",
       "99996                              [AutoLoan, StudentLoan]\n",
       "99997                              [AutoLoan, StudentLoan]\n",
       "99998                              [AutoLoan, StudentLoan]\n",
       "99999                              [AutoLoan, StudentLoan]\n",
       "Name: Type_of_Loan2, Length: 100000, dtype: object"
      ]
     },
     "execution_count": 62,
     "metadata": {},
     "output_type": "execute_result"
    }
   ],
   "source": [
    "df[\"Type_of_Loan2\"].str.split(\",\")"
   ]
  },
  {
   "cell_type": "code",
   "execution_count": 64,
   "id": "9afc07e0",
   "metadata": {},
   "outputs": [
    {
     "data": {
      "text/html": [
       "<div>\n",
       "<style scoped>\n",
       "    .dataframe tbody tr th:only-of-type {\n",
       "        vertical-align: middle;\n",
       "    }\n",
       "\n",
       "    .dataframe tbody tr th {\n",
       "        vertical-align: top;\n",
       "    }\n",
       "\n",
       "    .dataframe thead th {\n",
       "        text-align: right;\n",
       "    }\n",
       "</style>\n",
       "<table border=\"1\" class=\"dataframe\">\n",
       "  <thead>\n",
       "    <tr style=\"text-align: right;\">\n",
       "      <th></th>\n",
       "      <th>AutoLoan</th>\n",
       "      <th>Credit-BuilderLoan</th>\n",
       "      <th>DebtConsolidationLoan</th>\n",
       "      <th>HomeEquityLoan</th>\n",
       "      <th>MortgageLoan</th>\n",
       "      <th>NotSpecified</th>\n",
       "      <th>PaydayLoan</th>\n",
       "      <th>PersonalLoan</th>\n",
       "      <th>StudentLoan</th>\n",
       "    </tr>\n",
       "  </thead>\n",
       "  <tbody>\n",
       "    <tr>\n",
       "      <th>0</th>\n",
       "      <td>1</td>\n",
       "      <td>1</td>\n",
       "      <td>0</td>\n",
       "      <td>1</td>\n",
       "      <td>0</td>\n",
       "      <td>0</td>\n",
       "      <td>0</td>\n",
       "      <td>1</td>\n",
       "      <td>0</td>\n",
       "    </tr>\n",
       "    <tr>\n",
       "      <th>1</th>\n",
       "      <td>1</td>\n",
       "      <td>1</td>\n",
       "      <td>0</td>\n",
       "      <td>1</td>\n",
       "      <td>0</td>\n",
       "      <td>0</td>\n",
       "      <td>0</td>\n",
       "      <td>1</td>\n",
       "      <td>0</td>\n",
       "    </tr>\n",
       "    <tr>\n",
       "      <th>2</th>\n",
       "      <td>1</td>\n",
       "      <td>1</td>\n",
       "      <td>0</td>\n",
       "      <td>1</td>\n",
       "      <td>0</td>\n",
       "      <td>0</td>\n",
       "      <td>0</td>\n",
       "      <td>1</td>\n",
       "      <td>0</td>\n",
       "    </tr>\n",
       "    <tr>\n",
       "      <th>3</th>\n",
       "      <td>1</td>\n",
       "      <td>1</td>\n",
       "      <td>0</td>\n",
       "      <td>1</td>\n",
       "      <td>0</td>\n",
       "      <td>0</td>\n",
       "      <td>0</td>\n",
       "      <td>1</td>\n",
       "      <td>0</td>\n",
       "    </tr>\n",
       "    <tr>\n",
       "      <th>4</th>\n",
       "      <td>1</td>\n",
       "      <td>1</td>\n",
       "      <td>0</td>\n",
       "      <td>1</td>\n",
       "      <td>0</td>\n",
       "      <td>0</td>\n",
       "      <td>0</td>\n",
       "      <td>1</td>\n",
       "      <td>0</td>\n",
       "    </tr>\n",
       "  </tbody>\n",
       "</table>\n",
       "</div>"
      ],
      "text/plain": [
       "   AutoLoan  Credit-BuilderLoan  DebtConsolidationLoan  HomeEquityLoan  \\\n",
       "0         1                   1                      0               1   \n",
       "1         1                   1                      0               1   \n",
       "2         1                   1                      0               1   \n",
       "3         1                   1                      0               1   \n",
       "4         1                   1                      0               1   \n",
       "\n",
       "   MortgageLoan  NotSpecified  PaydayLoan  PersonalLoan  StudentLoan  \n",
       "0             0             0           0             1            0  \n",
       "1             0             0           0             1            0  \n",
       "2             0             0           0             1            0  \n",
       "3             0             0           0             1            0  \n",
       "4             0             0           0             1            0  "
      ]
     },
     "execution_count": 64,
     "metadata": {},
     "output_type": "execute_result"
    }
   ],
   "source": [
    "# Use get_dummies from pandas Series string method.\n",
    "df_loan = df['Type_of_Loan2'].str.get_dummies(sep = ',')\n",
    "df_loan.head()"
   ]
  },
  {
   "cell_type": "code",
   "execution_count": 65,
   "id": "bc183e11",
   "metadata": {},
   "outputs": [
    {
     "data": {
      "text/html": [
       "<div>\n",
       "<style scoped>\n",
       "    .dataframe tbody tr th:only-of-type {\n",
       "        vertical-align: middle;\n",
       "    }\n",
       "\n",
       "    .dataframe tbody tr th {\n",
       "        vertical-align: top;\n",
       "    }\n",
       "\n",
       "    .dataframe thead th {\n",
       "        text-align: right;\n",
       "    }\n",
       "</style>\n",
       "<table border=\"1\" class=\"dataframe\">\n",
       "  <thead>\n",
       "    <tr style=\"text-align: right;\">\n",
       "      <th></th>\n",
       "      <th>ID</th>\n",
       "      <th>Customer_ID</th>\n",
       "      <th>Month</th>\n",
       "      <th>Name</th>\n",
       "      <th>Age</th>\n",
       "      <th>SSN</th>\n",
       "      <th>Occupation</th>\n",
       "      <th>Annual_Income</th>\n",
       "      <th>Monthly_Inhand_Salary</th>\n",
       "      <th>Num_Bank_Accounts</th>\n",
       "      <th>...</th>\n",
       "      <th>Type_of_Loan2</th>\n",
       "      <th>AutoLoan</th>\n",
       "      <th>Credit-BuilderLoan</th>\n",
       "      <th>DebtConsolidationLoan</th>\n",
       "      <th>HomeEquityLoan</th>\n",
       "      <th>MortgageLoan</th>\n",
       "      <th>NotSpecified</th>\n",
       "      <th>PaydayLoan</th>\n",
       "      <th>PersonalLoan</th>\n",
       "      <th>StudentLoan</th>\n",
       "    </tr>\n",
       "  </thead>\n",
       "  <tbody>\n",
       "    <tr>\n",
       "      <th>0</th>\n",
       "      <td>0x1602</td>\n",
       "      <td>CUS_0xd40</td>\n",
       "      <td>January</td>\n",
       "      <td>Aaron Maashoh</td>\n",
       "      <td>23</td>\n",
       "      <td>821-00-0265</td>\n",
       "      <td>Scientist</td>\n",
       "      <td>19114.12</td>\n",
       "      <td>1824.843333</td>\n",
       "      <td>3</td>\n",
       "      <td>...</td>\n",
       "      <td>AutoLoan,Credit-BuilderLoan,PersonalLoan,HomeE...</td>\n",
       "      <td>1</td>\n",
       "      <td>1</td>\n",
       "      <td>0</td>\n",
       "      <td>1</td>\n",
       "      <td>0</td>\n",
       "      <td>0</td>\n",
       "      <td>0</td>\n",
       "      <td>1</td>\n",
       "      <td>0</td>\n",
       "    </tr>\n",
       "    <tr>\n",
       "      <th>1</th>\n",
       "      <td>0x1603</td>\n",
       "      <td>CUS_0xd40</td>\n",
       "      <td>February</td>\n",
       "      <td>Aaron Maashoh</td>\n",
       "      <td>23</td>\n",
       "      <td>821-00-0265</td>\n",
       "      <td>Scientist</td>\n",
       "      <td>19114.12</td>\n",
       "      <td>NaN</td>\n",
       "      <td>3</td>\n",
       "      <td>...</td>\n",
       "      <td>AutoLoan,Credit-BuilderLoan,PersonalLoan,HomeE...</td>\n",
       "      <td>1</td>\n",
       "      <td>1</td>\n",
       "      <td>0</td>\n",
       "      <td>1</td>\n",
       "      <td>0</td>\n",
       "      <td>0</td>\n",
       "      <td>0</td>\n",
       "      <td>1</td>\n",
       "      <td>0</td>\n",
       "    </tr>\n",
       "    <tr>\n",
       "      <th>2</th>\n",
       "      <td>0x1604</td>\n",
       "      <td>CUS_0xd40</td>\n",
       "      <td>March</td>\n",
       "      <td>Aaron Maashoh</td>\n",
       "      <td>-500</td>\n",
       "      <td>821-00-0265</td>\n",
       "      <td>Scientist</td>\n",
       "      <td>19114.12</td>\n",
       "      <td>NaN</td>\n",
       "      <td>3</td>\n",
       "      <td>...</td>\n",
       "      <td>AutoLoan,Credit-BuilderLoan,PersonalLoan,HomeE...</td>\n",
       "      <td>1</td>\n",
       "      <td>1</td>\n",
       "      <td>0</td>\n",
       "      <td>1</td>\n",
       "      <td>0</td>\n",
       "      <td>0</td>\n",
       "      <td>0</td>\n",
       "      <td>1</td>\n",
       "      <td>0</td>\n",
       "    </tr>\n",
       "    <tr>\n",
       "      <th>3</th>\n",
       "      <td>0x1605</td>\n",
       "      <td>CUS_0xd40</td>\n",
       "      <td>April</td>\n",
       "      <td>Aaron Maashoh</td>\n",
       "      <td>23</td>\n",
       "      <td>821-00-0265</td>\n",
       "      <td>Scientist</td>\n",
       "      <td>19114.12</td>\n",
       "      <td>NaN</td>\n",
       "      <td>3</td>\n",
       "      <td>...</td>\n",
       "      <td>AutoLoan,Credit-BuilderLoan,PersonalLoan,HomeE...</td>\n",
       "      <td>1</td>\n",
       "      <td>1</td>\n",
       "      <td>0</td>\n",
       "      <td>1</td>\n",
       "      <td>0</td>\n",
       "      <td>0</td>\n",
       "      <td>0</td>\n",
       "      <td>1</td>\n",
       "      <td>0</td>\n",
       "    </tr>\n",
       "    <tr>\n",
       "      <th>4</th>\n",
       "      <td>0x1606</td>\n",
       "      <td>CUS_0xd40</td>\n",
       "      <td>May</td>\n",
       "      <td>Aaron Maashoh</td>\n",
       "      <td>23</td>\n",
       "      <td>821-00-0265</td>\n",
       "      <td>Scientist</td>\n",
       "      <td>19114.12</td>\n",
       "      <td>1824.843333</td>\n",
       "      <td>3</td>\n",
       "      <td>...</td>\n",
       "      <td>AutoLoan,Credit-BuilderLoan,PersonalLoan,HomeE...</td>\n",
       "      <td>1</td>\n",
       "      <td>1</td>\n",
       "      <td>0</td>\n",
       "      <td>1</td>\n",
       "      <td>0</td>\n",
       "      <td>0</td>\n",
       "      <td>0</td>\n",
       "      <td>1</td>\n",
       "      <td>0</td>\n",
       "    </tr>\n",
       "  </tbody>\n",
       "</table>\n",
       "<p>5 rows × 38 columns</p>\n",
       "</div>"
      ],
      "text/plain": [
       "       ID Customer_ID     Month           Name  Age          SSN Occupation  \\\n",
       "0  0x1602   CUS_0xd40   January  Aaron Maashoh   23  821-00-0265  Scientist   \n",
       "1  0x1603   CUS_0xd40  February  Aaron Maashoh   23  821-00-0265  Scientist   \n",
       "2  0x1604   CUS_0xd40     March  Aaron Maashoh -500  821-00-0265  Scientist   \n",
       "3  0x1605   CUS_0xd40     April  Aaron Maashoh   23  821-00-0265  Scientist   \n",
       "4  0x1606   CUS_0xd40       May  Aaron Maashoh   23  821-00-0265  Scientist   \n",
       "\n",
       "   Annual_Income  Monthly_Inhand_Salary  Num_Bank_Accounts  ...  \\\n",
       "0       19114.12            1824.843333                  3  ...   \n",
       "1       19114.12                    NaN                  3  ...   \n",
       "2       19114.12                    NaN                  3  ...   \n",
       "3       19114.12                    NaN                  3  ...   \n",
       "4       19114.12            1824.843333                  3  ...   \n",
       "\n",
       "                                       Type_of_Loan2  AutoLoan  \\\n",
       "0  AutoLoan,Credit-BuilderLoan,PersonalLoan,HomeE...         1   \n",
       "1  AutoLoan,Credit-BuilderLoan,PersonalLoan,HomeE...         1   \n",
       "2  AutoLoan,Credit-BuilderLoan,PersonalLoan,HomeE...         1   \n",
       "3  AutoLoan,Credit-BuilderLoan,PersonalLoan,HomeE...         1   \n",
       "4  AutoLoan,Credit-BuilderLoan,PersonalLoan,HomeE...         1   \n",
       "\n",
       "   Credit-BuilderLoan DebtConsolidationLoan  HomeEquityLoan  MortgageLoan  \\\n",
       "0                   1                     0               1             0   \n",
       "1                   1                     0               1             0   \n",
       "2                   1                     0               1             0   \n",
       "3                   1                     0               1             0   \n",
       "4                   1                     0               1             0   \n",
       "\n",
       "   NotSpecified  PaydayLoan PersonalLoan  StudentLoan  \n",
       "0             0           0            1            0  \n",
       "1             0           0            1            0  \n",
       "2             0           0            1            0  \n",
       "3             0           0            1            0  \n",
       "4             0           0            1            0  \n",
       "\n",
       "[5 rows x 38 columns]"
      ]
     },
     "execution_count": 65,
     "metadata": {},
     "output_type": "execute_result"
    }
   ],
   "source": [
    "# concat two dataframes together\n",
    "df = pd.concat([df,df_loan], axis=1)\n",
    "df.head()"
   ]
  },
  {
   "cell_type": "code",
   "execution_count": 47,
   "id": "ca3feb4a",
   "metadata": {},
   "outputs": [
    {
     "ename": "AttributeError",
     "evalue": "'float' object has no attribute 'split'",
     "output_type": "error",
     "traceback": [
      "\u001b[0;31m---------------------------------------------------------------------------\u001b[0m",
      "\u001b[0;31mAttributeError\u001b[0m                            Traceback (most recent call last)",
      "\u001b[0;32m<ipython-input-47-ea269be29dfe>\u001b[0m in \u001b[0;36m<module>\u001b[0;34m\u001b[0m\n\u001b[1;32m      4\u001b[0m \u001b[0;34m\u001b[0m\u001b[0m\n\u001b[1;32m      5\u001b[0m \u001b[0;32mfor\u001b[0m \u001b[0mloan_list\u001b[0m \u001b[0;32min\u001b[0m \u001b[0munique_loans\u001b[0m\u001b[0;34m:\u001b[0m\u001b[0;34m\u001b[0m\u001b[0;34m\u001b[0m\u001b[0m\n\u001b[0;32m----> 6\u001b[0;31m     \u001b[0;32mfor\u001b[0m \u001b[0mone_loan\u001b[0m \u001b[0;32min\u001b[0m \u001b[0mloan_list\u001b[0m\u001b[0;34m.\u001b[0m\u001b[0msplit\u001b[0m\u001b[0;34m(\u001b[0m\u001b[0;34m\",\"\u001b[0m\u001b[0;34m)\u001b[0m\u001b[0;34m:\u001b[0m\u001b[0;34m\u001b[0m\u001b[0;34m\u001b[0m\u001b[0m\n\u001b[0m\u001b[1;32m      7\u001b[0m         \u001b[0mset_loans\u001b[0m\u001b[0;34m.\u001b[0m\u001b[0madd\u001b[0m\u001b[0;34m(\u001b[0m\u001b[0mone_loan\u001b[0m\u001b[0;34m)\u001b[0m\u001b[0;34m\u001b[0m\u001b[0;34m\u001b[0m\u001b[0m\n",
      "\u001b[0;31mAttributeError\u001b[0m: 'float' object has no attribute 'split'"
     ]
    }
   ],
   "source": [
    "# If you want to select the number of unique Loan Types, run the cell\n",
    "unique_loans = df[\"Type_of_Loan2\"].unique()\n",
    "set_loans = set()\n",
    " \n",
    "for loan_list in unique_loans:\n",
    "    for one_loan in loan_list.split(\",\"):\n",
    "        set_loans.add(one_loan)"
   ]
  },
  {
   "cell_type": "code",
   "execution_count": null,
   "id": "86e2a66f",
   "metadata": {},
   "outputs": [],
   "source": [
    "set_loans"
   ]
  },
  {
   "cell_type": "code",
   "execution_count": null,
   "id": "498a2de6",
   "metadata": {},
   "outputs": [],
   "source": [
    "# Drop Type_of_Loan columns\n",
    "df.drop([\"Type_of_Loan\",\"Type_of_Loan2\"], axis=1, inplace=True)\n",
    "df.columns"
   ]
  },
  {
   "cell_type": "markdown",
   "id": "fbe394c8",
   "metadata": {},
   "source": [
    "### TODO : Try it as practice\n",
    "* For Credit_History_Age Column:\n",
    "* Create new columns \"Years\" and \"Months\" with the numeric years and months values from Credit_History_Age column\n",
    "* Do not use lazy solutions like using for loops"
   ]
  },
  {
   "cell_type": "code",
   "execution_count": null,
   "id": "9ea97ab8",
   "metadata": {},
   "outputs": [],
   "source": []
  }
 ],
 "metadata": {
  "kernelspec": {
   "display_name": "week2",
   "language": "python",
   "name": "week2"
  },
  "language_info": {
   "codemirror_mode": {
    "name": "ipython",
    "version": 3
   },
   "file_extension": ".py",
   "mimetype": "text/x-python",
   "name": "python",
   "nbconvert_exporter": "python",
   "pygments_lexer": "ipython3",
   "version": "3.6.8"
  }
 },
 "nbformat": 4,
 "nbformat_minor": 5
}
